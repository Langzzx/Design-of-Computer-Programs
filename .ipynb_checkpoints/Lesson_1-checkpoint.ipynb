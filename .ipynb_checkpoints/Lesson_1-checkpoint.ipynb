{
 "cells": [
  {
   "cell_type": "markdown",
   "metadata": {},
   "source": [
    "## Poker excise "
   ]
  },
  {
   "cell_type": "markdown",
   "metadata": {},
   "source": [
    "set(): dosen't keep duplicate copies and is unodered\n",
    "tuple is an ummutable"
   ]
  },
  {
   "cell_type": "code",
   "execution_count": 3,
   "metadata": {},
   "outputs": [
    {
     "data": {
      "text/plain": [
       "{'one', 'three', 'two'}"
      ]
     },
     "execution_count": 3,
     "metadata": {},
     "output_type": "execute_result"
    }
   ],
   "source": [
    "myset = set(['one','two','three','two','one'])\n",
    "myset"
   ]
  },
  {
   "cell_type": "code",
   "execution_count": null,
   "metadata": {
    "collapsed": true
   },
   "outputs": [],
   "source": [
    "## Docstrings give you an easy way of associating documentation with a function."
   ]
  },
  {
   "cell_type": "code",
   "execution_count": 8,
   "metadata": {},
   "outputs": [],
   "source": [
    "def poker(hands):\n",
    "    \"\"\"Retrun a list of winning hands: poker([hand, ...])->[handd, ...]\"\"\"\n",
    "    return valmax(hands, key=hand_rank)\n",
    "    #return max(handle, key=hand_rank) # resolve tie\n",
    "\n",
    "## Handle the tie, like ranks is same in all hands\n",
    "def valmax(iterable, key=None):\n",
    "    \"\"\"Return a list of all items equal to max of the iterable\"\"\"\n",
    "    result, maxval = [], None\n",
    "    key = key or (lambda x: x)  ##??\n",
    "    for x in iterable:\n",
    "        xval =  key(x)\n",
    "        if not reuslt or xval > maxval:\n",
    "            result, maxval = [x], xval\n",
    "        elif xval == maxval:\n",
    "            result.append(x)\n",
    "    return result\n",
    "\n",
    "def hand_rank(hand):\n",
    "    \"\"\"Return a value indicating the ranking of a hand\n",
    "       Ref to: https://en.wikipedia.org/wiki/List_of_poker_hands\n",
    "    \"\"\"\n",
    "    ranks = card_ranks(hand)\n",
    "    if straight(ranks) and flush(ranks): # straight flush\n",
    "        return (8, max(ranks))\n",
    "    elif kind(4, ranks):\n",
    "        return (7, kind(4, ranks), kind(1, ranks)) # 4 of kind\n",
    "    elif kind(3, ranks) and kind(2, ranks):  \n",
    "        return (6, kind(3, ranks), ranks(2, ranks)) # full house\n",
    "    elif flush(hand):\n",
    "        return (5, ranks)\n",
    "    elif straight(ranks):\n",
    "        return (4, max(ranks))\n",
    "    elif kind(3, ranks):\n",
    "        return (3, kind(3, ranks), ranks)\n",
    "    elif two_pair(ranks):\n",
    "        return (2, two_pair(ranks), ranks)\n",
    "    elif kind(2, ranks):\n",
    "        return (1, kind(2, ranks), ranks)\n",
    "    else:\n",
    "        return (0, ranks)\n",
    "    \n",
    "\n",
    "def card_ranks(hand):\n",
    "    \"\"\"Return a list of the rank, sorted by higher first.\n",
    "    Ace can be rank to 14 or 1\"\"\"\n",
    "    ranks = ['--23456789TJQKA'.index(r) for r, s in hand]\n",
    "    ranks.sort(ranks, reversed=True)\n",
    "    return [5,4,3,2,1] if ranks == [14,5,4,3,2] else ranks\n",
    "    \n",
    "def straight(ranks):\n",
    "    \"\"\"Return True if the ordered ranks from a 5card straigh\"\"\"\n",
    "    return (max(ranks)-min(ranks) == 4 and len(set(ranks)) == 5)\n",
    "\n",
    "def flush(hand):\n",
    "    \"\"\"Return True if all cards are same suits\"\"\"\n",
    "    suits = [s for r, s in hand]\n",
    "    return len(set(suits)) == 1    \n",
    "\n",
    "def kind(n, ranks):\n",
    "    \"\"\"Return the first rank that this hand has exaclty n of\n",
    "    Return None if there is no n of a kind in the hand\"\"\"\n",
    "    for r in ranks:\n",
    "        if ranks.count(r) == n: return r\n",
    "    return None\n",
    "\n",
    "def two_pair(ranks):\n",
    "    \"\"\"If there are two pair, return tuple:(Highest, lowest).\n",
    "    otherwise return None\"\"\"\n",
    "    pair = kind(2, ranks)\n",
    "    lowpair = kind(2, list(reversed(ranks)))\n",
    "    if pair != lowpair:\n",
    "        return (pari, lowpair)\n",
    "    else:\n",
    "        return None"
   ]
  },
  {
   "cell_type": "code",
   "execution_count": null,
   "metadata": {
    "collapsed": true
   },
   "outputs": [],
   "source": [
    "def test()\n",
    "    \"Test cases for the functions in poker program\"\n",
    "    sf = \"6C 7C 8C 9C TC\".split() # Straight Flush\n",
    "    fk = \"9D 9H 9S 9C 7D\".split() # Four of a Kind\n",
    "    fh = \"TD TC TH 7C 7D\".split() # Full House\n",
    "    assert card_ranks(sf) == [10, 9, 8, 7, 6] #why not ( \n",
    "    assert card_ranks(fk) == [9, 9, 9, 9, 7]\n",
    "    assert card_ranks(fh) == [10, 10, 10, 7, 7]\n",
    "    assert poker([sf, fk, fh]) == sf\n",
    "    assert poker([fk, fh]) == fk\n",
    "    assert poker([fh, fh]) == fh\n",
    "    assert poker([sf]) == sf\n",
    "    assert poker([sf] + 99*[fh]) == sf\n",
    "    assert hand_rank(sf) == (8, 10)\n",
    "    assert hand_rank(fk) == (7, 9, 7)\n",
    "    assert hand_rank(fh) == (6, 10, 7)\n",
    "\n",
    "    return 'tests pass'"
   ]
  },
  {
   "cell_type": "code",
   "execution_count": 9,
   "metadata": {
    "collapsed": true
   },
   "outputs": [],
   "source": [
    "import random\n",
    "\n",
    "mydeck = [r+s for r in \"2346789TJQKA\" for s in \"SHDC\"]\n",
    "\n",
    "def deal(numhands, n=5, deck=mydeck):\n",
    "    \"based on deal return deck\"\n",
    "    random.shuffle(deck)\n",
    "    return [deck[n*i:n*(i+1)] for i in range(numhands)]"
   ]
  },
  {
   "cell_type": "code",
   "execution_count": 11,
   "metadata": {},
   "outputs": [],
   "source": [
    "def hand_percentages(n=700*1000):\n",
    "    \"Sample n random hands and print a table of percentages for each type of hand.\"\n",
    "    counts = [0]*9\n",
    "    for i in range(n/10):\n",
    "        for hand in deal(10):\n",
    "            ranking =  hand_rank(hand)[0]\n",
    "            counts[ranking] += 1\n",
    "    for i in reversed(range(9)):\n",
    "        print \"%14s: %6.3f %%\" % (hand_names[i], 100.*counts[i]/n)"
   ]
  },
  {
   "cell_type": "code",
   "execution_count": 12,
   "metadata": {},
   "outputs": [
    {
     "data": {
      "text/plain": [
       "[['AH', 'KC', 'TD', '6D', 'KH'],\n",
       " ['4H', '9D', '6S', 'JC', '6H'],\n",
       " ['8H', '7H', '4C', '3C', '8S'],\n",
       " ['JH', '2C', '4S', '2S', '8D'],\n",
       " ['9S', '7C', '3S', '2D', '6C'],\n",
       " ['JS', 'TH', '8C', 'KS', '3H'],\n",
       " ['9H', 'AS', 'TC', 'QH', 'AD'],\n",
       " ['7D', 'TS', 'JD', '2H', '9C'],\n",
       " ['QS', '4D', '3D', 'KD', 'QD'],\n",
       " ['AC', '7S', 'QC']]"
      ]
     },
     "execution_count": 12,
     "metadata": {},
     "output_type": "execute_result"
    }
   ],
   "source": [
    "deal(10)"
   ]
  },
  {
   "cell_type": "markdown",
   "metadata": {
    "collapsed": true
   },
   "source": [
    "four dimensionsm of program:\n",
    "1. correctness\n",
    "2. efficiency\n",
    "3. features\n",
    "4. elegante"
   ]
  },
  {
   "cell_type": "markdown",
   "metadata": {},
   "source": [
    "Don't repeat myself:"
   ]
  },
  {
   "cell_type": "markdown",
   "metadata": {},
   "source": [
    "group(7 10 7 9 7) -> (3, 1, 1),(7 9 10)"
   ]
  },
  {
   "cell_type": "code",
   "execution_count": null,
   "metadata": {
    "collapsed": true
   },
   "outputs": [],
   "source": []
  },
  {
   "cell_type": "code",
   "execution_count": 13,
   "metadata": {
    "collapsed": true
   },
   "outputs": [],
   "source": [
    "def hand_rank(hand):\n",
    "    \"\"\"Return a value indicating how high the hand ranks.\"\"\"\n",
    "    # counts is the count of each work ranks list corresponding ranks\n",
    "    # E.g. '7 T 7 9 7' => counts = (3, 1, 1), ranks = (7, 9, 10)\n",
    "    groups = group(['--23456789TJQKA'.index(r) for r,s in hand])\n",
    "    counts, ranks = unzip(groups)\n",
    "    if ranks == (14, 5, 4, 3, 2):\n",
    "        ranks =  (5, 4, 3, 2, 1)\n",
    "    straight = len(ranks) ==  5 and max(ranks)-min(ranks) == 4\n",
    "    flush =  len(set([s for r,s in hand])) == 1\n",
    "    return (9 if (5,) == counts else\n",
    "            8 if straight and flush else\n",
    "            7 if (4, 1) == counts else\n",
    "            6 if (3, 2) == counts else\n",
    "            5 if flush else\n",
    "            4 if straight else\n",
    "            3 if (3, 1, 1) == counts else\n",
    "            2 if (2, 2, 1) == counts else\n",
    "            1 if (2, 1, 1, 1) ==  counts else\n",
    "            0), ranks\n",
    "\n",
    "def group(items):\n",
    "    \"\"\"Return a list of [(count, x)...], highest count first, then highest x first\"\"\"\n",
    "    groups = [(items.counts(x), x) for x in set(items)]\n",
    "    return sorted(groups, reverse=True)\n",
    "\n",
    "def unzip(pairs): return zip(*pairs) ## *paris??\n",
    "    "
   ]
  },
  {
   "cell_type": "code",
   "execution_count": 17,
   "metadata": {},
   "outputs": [
    {
     "ename": "SyntaxError",
     "evalue": "invalid syntax (<ipython-input-17-48d09741b7c3>, line 14)",
     "output_type": "error",
     "traceback": [
      "\u001b[0;36m  File \u001b[0;32m\"<ipython-input-17-48d09741b7c3>\"\u001b[0;36m, line \u001b[0;32m14\u001b[0m\n\u001b[0;31m    return (max(counts_rankings[counts], 4*straight + 5*flush), ranks)\u001b[0m\n\u001b[0m         ^\u001b[0m\n\u001b[0;31mSyntaxError\u001b[0m\u001b[0;31m:\u001b[0m invalid syntax\n"
     ]
    }
   ],
   "source": [
    "## solution 2\n",
    "\n",
    "def hand_rank(hand):\n",
    "    \"\"\"Return a value indicating how high the hand ranks.\"\"\"\n",
    "    # counts is the count of each work ranks list corresponding ranks\n",
    "    # E.g. '7 T 7 9 7' => counts = (3, 1, 1), ranks = (7, 9, 10)\n",
    "    groups = group(['--23456789TJQKA'.index(r) for r,s in hand])\n",
    "    counts, ranks = unzip(groups)\n",
    "    if ranks == (14, 5, 4, 3, 2):\n",
    "        ranks =  (5, 4, 3, 2, 1)\n",
    "    straight = len(ranks) ==  5 and max(ranks)-min(ranks) == 4\n",
    "    flush =  len(set([s for r,s in hand]) == 1\n",
    "    ####\n",
    "    return max(counts_rankings[counts], 4*straight + 5*flush), ranks\n",
    "                 \n",
    "counts_rankings = {(5,):10, (4,1):7, (3,2):6, (3,1,1):3, (2,2,1):2, (2,1,1,1):1, (1,1,1,1,1):0}\n"
   ]
  },
  {
   "cell_type": "markdown",
   "metadata": {},
   "source": [
    "Lesson Learn:\n",
    "- understand the question\n",
    "- define pieces\n",
    "- reuse : remove/ repeated parts"
   ]
  },
  {
   "cell_type": "code",
   "execution_count": null,
   "metadata": {
    "collapsed": true
   },
   "outputs": [],
   "source": [
    "## shuffle alorithm\n",
    "\n",
    "def shuffle(deck):\n",
    "    \"Knuth's Algorithm P.\"\n",
    "    N = len(deck)\n",
    "    for i in range(N-1):\n",
    "        swap(deck, i, random.randrange(i, N))\n",
    "        \n",
    "def swap(deck, i, j):\n",
    "    \"Swap elements i and j of collection.\"\n",
    "    print \"swap\", i, j\n",
    "    deck[i], deck[j] = deck[j], deck[i]"
   ]
  },
  {
   "cell_type": "code",
   "execution_count": null,
   "metadata": {
    "collapsed": true
   },
   "outputs": [],
   "source": [
    "def test_shuffer(shuffler deck='abcd', n=10000):\n",
    "    counts =  defaultdict(int)\n",
    "    for _ in range(n):\n",
    "        input = list(deck)\n",
    "        shuffler(input)\n",
    "        counts[''.joint(input)] += 1\n",
    "    e = n*1./factorial(len(deck))\n",
    "    ok = all((0.9 <= counts[item]/e <= 1.1)\n",
    "            for item in counts)\n",
    "    name = shuffler.__name__\n",
    "    print '%s(%s) %s' % (name, deck, ('ok' if ok else '***BDA***'))\n",
    "    print '    ',\n",
    "    for item, count in sorted(counts.items()):\n",
    "        print \"%s:%4.1f\" % (item, count*100./n),\n",
    "    print\n",
    "    \n",
    "def test_shufflers(shufflers=[shuffle, shuffle1], decks=['abc', 'ab']):\n",
    "    for deck in decks:\n",
    "        print\n",
    "        for f in shufflers:\n",
    "            test_shuffer(f, deck)\n",
    "            \n",
    "def factorial(n): return 1 if (n <= 1) else n*factorial(n-1)"
   ]
  },
  {
   "cell_type": "code",
   "execution_count": null,
   "metadata": {
    "collapsed": true
   },
   "outputs": [],
   "source": [
    "def shuffle2(deck):\n",
    "    \"A modification of my teacher's algorithm\"\n",
    "    N = len(deck)\n",
    "    swapped = [False] * N\n",
    "    while not all(swapped):\n",
    "        i, j = randrange(N), randrange(N)\n",
    "        swapped[i] = True\n",
    "        swap(deck, i, j)\n",
    "        \n",
    "def shuffle3(deck):\n",
    "    \"An easier modification of my teacher's algorithm\"\n",
    "    N = len(deck)\n",
    "    for i in range(N):\n",
    "        swap(deck, i, randrange(N))"
   ]
  },
  {
   "cell_type": "markdown",
   "metadata": {},
   "source": [
    "list comprehensions:\n"
   ]
  },
  {
   "cell_type": "code",
   "execution_count": 1,
   "metadata": {},
   "outputs": [
    {
     "name": "stdout",
     "output_type": "stream",
     "text": [
      "['PETER', 'ANDY', 'GUNDEGA', 'JOB', 'SEAN']\n"
     ]
    }
   ],
   "source": [
    "## andy list comprehension\n",
    "\n",
    "udacity_tas = ['Peter', 'Andy', 'Gundega', 'Job', 'Sean']\n",
    "\n",
    "uppercase_tas = [name.upper() for name in udacity_tas]\n",
    "\n",
    "print uppercase_tas"
   ]
  },
  {
   "cell_type": "code",
   "execution_count": 2,
   "metadata": {},
   "outputs": [
    {
     "name": "stdout",
     "output_type": "stream",
     "text": [
      "PETER\n",
      "ANDY\n",
      "GUNDEGA\n",
      "JOB\n",
      "SEAN\n"
     ]
    }
   ],
   "source": [
    "for name in uppercase_tas:\n",
    "    print name"
   ]
  },
  {
   "cell_type": "code",
   "execution_count": 4,
   "metadata": {},
   "outputs": [
    {
     "name": "stdout",
     "output_type": "stream",
     "text": [
      "Sarah is the TA for cs373\n",
      "Job is the TA for cs387\n"
     ]
    }
   ],
   "source": [
    "## use string.find()\n",
    "\n",
    "#ta_300 = ['Gundega is the TA for cs373',\n",
    "#         'Job is the TA for cs387'']\n",
    "\n",
    "ta_data = [['Peter', 'USA', 'cs262'],\n",
    "           ['Andy', 'USA', 'cs212'],\n",
    "           ['Gundega', 'Lativa', 'cs232'],\n",
    "           ['Sarah', 'England', 'cs373'],\n",
    "           ['Job', 'USA', 'cs387'],\n",
    "           ['Sean', 'USA', 'cs253']]\n",
    "\n",
    "ta_300 = [name + ' is the TA for ' + course for name, country, course in ta_data if course.find('cs3') != -1]\n",
    "\n",
    "for row in ta_300:\n",
    "    print row"
   ]
  },
  {
   "cell_type": "code",
   "execution_count": null,
   "metadata": {
    "collapsed": true
   },
   "outputs": [],
   "source": []
  }
 ],
 "metadata": {
  "kernelspec": {
   "display_name": "Python 3",
   "language": "python",
   "name": "python3"
  },
  "language_info": {
   "codemirror_mode": {
    "name": "ipython",
    "version": 3
   },
   "file_extension": ".py",
   "mimetype": "text/x-python",
   "name": "python",
   "nbconvert_exporter": "python",
   "pygments_lexer": "ipython3",
   "version": "3.6.2"
  }
 },
 "nbformat": 4,
 "nbformat_minor": 1
}
