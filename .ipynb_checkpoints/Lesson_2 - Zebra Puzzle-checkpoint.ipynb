{
 "cells": [
  {
   "cell_type": "markdown",
   "metadata": {},
   "source": [
    "## 1. Zebra Puzzle\n",
    "\n",
    "1 There are five houses.\n",
    "\n",
    "2 The Englishman lives in the red house.\n",
    "\n",
    "3 The Spaniard owns the dog.\n",
    "\n",
    "4 Coffee is drunk in the green house.\n",
    "\n",
    "5 The Ukrainian drinks tea.\n",
    "\n",
    "6 The green house is immediately to the right of the ivory house.\n",
    "\n",
    "7 The Old Gold smoker owns snails.\n",
    "\n",
    "8 Kools are smoked in the yellow house.\n",
    "\n",
    "9 Milk is drunk in the middle house.\n",
    "\n",
    "10 The Norwegian lives in the first house.\n",
    "\n",
    "11 The man who smokes Chesterfields lives in the house next to the man with the fox.\n",
    "\n",
    "12 Kools are smoked in a house next to the house where the horse is kept.\n",
    "\n",
    "13 The Lucky Strike smoker drinks orange juice.\n",
    "\n",
    "14 The Japanese smokes Parliaments.\n",
    "\n",
    "15 The Norwegian lives next to the blue house.\n",
    "\n",
    "Who drinks water? Who owns the zebra?\n",
    "\n",
    "Each house is painted a different color, and their inhabitants are of different nationalities, own different pets, drink different beverages and smoke different brands of American cigarettes."
   ]
  },
  {
   "cell_type": "markdown",
   "metadata": {},
   "source": [
    "1. list comprehensions\n",
    "2. generator experessions\n",
    "3. generator\n",
    "4. re\n",
    "5. eval function - str->object/function\n",
    "6. instrumentsation"
   ]
  },
  {
   "cell_type": "code",
   "execution_count": 8,
   "metadata": {},
   "outputs": [
    {
     "data": {
      "text/plain": [
       "[(1, 2, 3, 4, 5),\n",
       " (1, 2, 3, 5, 4),\n",
       " (1, 2, 4, 3, 5),\n",
       " (1, 2, 4, 5, 3),\n",
       " (1, 2, 5, 3, 4),\n",
       " (1, 2, 5, 4, 3),\n",
       " (1, 3, 2, 4, 5),\n",
       " (1, 3, 2, 5, 4),\n",
       " (1, 3, 4, 2, 5),\n",
       " (1, 3, 4, 5, 2)]"
      ]
     },
     "execution_count": 8,
     "metadata": {},
     "output_type": "execute_result"
    }
   ],
   "source": [
    "## estmiate runtime\n",
    "## 5!^5 = 24billion\n",
    "\n",
    "import itertools\n",
    "\n",
    "houses = [1, 2, 3, 4, 5]\n",
    "orderings = list(itertools.permutations(houses))\n",
    "orderings[:10]"
   ]
  },
  {
   "cell_type": "code",
   "execution_count": null,
   "metadata": {
    "collapsed": true
   },
   "outputs": [],
   "source": [
    "## Generator experession\n",
    "## > g = (term, for-clause, optional-for-if)"
   ]
  },
  {
   "cell_type": "code",
   "execution_count": 2,
   "metadata": {},
   "outputs": [
    {
     "data": {
      "text/plain": [
       "2"
      ]
     },
     "execution_count": 2,
     "metadata": {},
     "output_type": "execute_result"
    }
   ],
   "source": [
    "houses = [first, _, middle, _, _] = [1, 2, 3, 4, 5]\n",
    "houses[1]"
   ]
  },
  {
   "cell_type": "code",
   "execution_count": 5,
   "metadata": {
    "scrolled": true
   },
   "outputs": [
    {
     "data": {
      "text/plain": [
       "4"
      ]
     },
     "execution_count": 5,
     "metadata": {},
     "output_type": "execute_result"
    }
   ],
   "source": [
    "houses[middle]"
   ]
  },
  {
   "cell_type": "code",
   "execution_count": 12,
   "metadata": {
    "collapsed": true
   },
   "outputs": [],
   "source": [
    "import itertools\n",
    "\n",
    "def imright(h1, h2):\n",
    "    \"House h1 is immediately right of h2 if h1-h2 == 1.\"\n",
    "    return h1-h2 == 1\n",
    "\n",
    "def nextto(h1, h2):\n",
    "    \"Two houses are next to each other if they differ by 1.\"\n",
    "    return abs(h1-h2) == 1\n",
    "\n",
    "def zebra_puzzle():\n",
    "    houses = [first, _, middle, _, _] = [1, 2, 3, 4, 5]\n",
    "    orderings = list(itertools.permutations(houses)) # 1\n",
    "    return next((WATER, ZEBRA)\n",
    "                for (red, green, ivory, yellow, blue) in orderings #1\n",
    "                #for (red, green, ivory, yellow, blue) in c(orderings) #debug tools\n",
    "                if imright(green, ivory) #6\n",
    "                for (Englishman, Spaniard, Ukranian, Japanese, Norwegian) in orderings\n",
    "                if Englishman is red #2\n",
    "                if Norwegian is first\n",
    "                if nextto(Norwegian, blue)\n",
    "                for (coffee, tea, milk, oj, WATER) in orderings\n",
    "                if coffee is green\n",
    "                if Ukranian is tea\n",
    "                if milk is middle\n",
    "                for (OldGold, Kools, Chesterfields, LuckyStrike, Parliaments) in orderings\n",
    "                if Kools is yellow\n",
    "                if LuckyStrike is oj\n",
    "                if Japanese is Parliaments\n",
    "                for (dog, snails, fox, horse, ZEBRA) in orderings\n",
    "                if Spaniard is dog\n",
    "                if OldGold is snails\n",
    "                if nextto(Chesterfields, fox)\n",
    "                if nextto(Kools, horse)\n",
    "                )"
   ]
  },
  {
   "cell_type": "code",
   "execution_count": 13,
   "metadata": {
    "collapsed": true
   },
   "outputs": [],
   "source": [
    "import time\n",
    "\n",
    "def timecall(fn, *args): # star args, all args will join to a tuple\n",
    "    \"Call function with args; return the time in seconds and result.\"\n",
    "    t0 = time.clock()\n",
    "    result = fn(*args)\n",
    "    t1 = time.clock()\n",
    "    return t1-t0, result"
   ]
  },
  {
   "cell_type": "code",
   "execution_count": 14,
   "metadata": {},
   "outputs": [
    {
     "data": {
      "text/plain": [
       "(0.00021300000000001873, (1, 5))"
      ]
     },
     "execution_count": 14,
     "metadata": {},
     "output_type": "execute_result"
    }
   ],
   "source": [
    "## prob: Who drinks water? Who owns the zebra?\n",
    "timecall(zebra_puzzle)"
   ]
  },
  {
   "cell_type": "code",
   "execution_count": 15,
   "metadata": {
    "collapsed": true
   },
   "outputs": [],
   "source": [
    "def timecalls(n, fn, *args):\n",
    "    \"\"\"Call functionn n times with args, if n is an int, or\n",
    "    up to n seconds if n is a float ; return the min, avg, and max time.\"\"\"\n",
    "    if isinstance(n, int):\n",
    "        times = [timecall(fn, *args)[0] for _ in range(n)]\n",
    "    else:\n",
    "        times= []\n",
    "        while sum(times) < n:\n",
    "            times.append(timecall(fn, *args)[0])\n",
    "    return min(times), averge(times), max(times)\n",
    "\n",
    "def averge(numbers):\n",
    "    \"Return the averge (arithmetic mean) of a sequence of numbers.\"\n",
    "    return sum(numbers) / float(len(numbers))"
   ]
  },
  {
   "cell_type": "code",
   "execution_count": 16,
   "metadata": {},
   "outputs": [
    {
     "data": {
      "text/plain": [
       "(0.00019500000000016726, 0.00020133333333334966, 0.00021199999999987895)"
      ]
     },
     "execution_count": 16,
     "metadata": {},
     "output_type": "execute_result"
    }
   ],
   "source": [
    "timecalls(3, zebra_puzzle)"
   ]
  },
  {
   "cell_type": "markdown",
   "metadata": {},
   "source": [
    "### Aspects:\n",
    "1. correct\n",
    "2. efficent\n",
    "3. debug"
   ]
  },
  {
   "cell_type": "code",
   "execution_count": 26,
   "metadata": {
    "collapsed": true
   },
   "outputs": [],
   "source": [
    "def instruments_fn(fn, *args):\n",
    "    c.starts, c.items = 0, 0 #set c.starts/c.items = 0/0\n",
    "    #c is function create by run, not by define\n",
    "    result = fn(*args)\n",
    "    print(\"{} got {} with {} iters over {} items\".format(\n",
    "            fn.__name__, result, c.starts, c.items))\n",
    "    \n",
    "def c(sequence):\n",
    "    \"\"\"Generate items is a sequence keeping counts as we go, \n",
    "    c.starts is the numbers of sequence,\n",
    "    c.items is the number of times generated.\"\"\"\n",
    "    c.starts += 1\n",
    "    for item in sequence:\n",
    "        c.items += 1\n",
    "        yield item #generator"
   ]
  },
  {
   "cell_type": "markdown",
   "metadata": {},
   "source": [
    "## \n",
    "\n",
    "ref to: [c function atributes by Norvig](https://discussions.udacity.com/t/unit2-23-c-function-has-no-atributes-starts/65915/11)"
   ]
  },
  {
   "cell_type": "code",
   "execution_count": 27,
   "metadata": {
    "collapsed": true
   },
   "outputs": [],
   "source": [
    "## rewriter upper code for function c\n",
    "\n",
    "class c(object):\n",
    "    \"\"\"Convert a sequence to an iterable that counts accesses to it.\n",
    "    At any time you can ask the object for .starts (the number of iters\n",
    "    that have started) and .items (the total number of items iterated).\"\"\"\n",
    "\n",
    "    def __init__(self, sequence):\n",
    "        self.sequence = list(sequence)\n",
    "        self.starts, self.items = 0, 0\n",
    "\n",
    "    def __iter__(self):\n",
    "        self.starts += 1\n",
    "        for item in self.sequence:\n",
    "            self.items += 1\n",
    "            yield item"
   ]
  },
  {
   "cell_type": "code",
   "execution_count": 28,
   "metadata": {
    "collapsed": true
   },
   "outputs": [],
   "source": [
    "##debug\n",
    "\n",
    "def zebra_puzzle():\n",
    "    houses = [first, _, middle, _, _] = [1, 2, 3, 4, 5]\n",
    "    orderings = list(itertools.permutations(houses)) # 1\n",
    "    return next((WATER, ZEBRA)\n",
    "                #for (red, green, ivory, yellow, blue) in orderings\n",
    "                for (red, green, ivory, yellow, blue) in c(orderings) #debug tools\n",
    "                if imright(green, ivory)\n",
    "                for (Englishman, Spaniard, Ukranian, Japanese, Norwegian) in c(orderings)\n",
    "                if Englishman is red\n",
    "                if Norwegian is first\n",
    "                if nextto(Norwegian, blue)\n",
    "                for (coffee, tea, milk, oj, WATER) in c(orderings)\n",
    "                if coffee is green\n",
    "                if Ukranian is tea\n",
    "                if milk is middle\n",
    "                for (OldGold, Kools, Chesterfields, LuckyStrike, Parliaments) in c(orderings)\n",
    "                if Kools is yellow\n",
    "                if LuckyStrike is oj\n",
    "                if Japanese is Parliaments\n",
    "                for (dog, snails, fox, horse, ZEBRA) in c(orderings)\n",
    "                if Spaniard is dog\n",
    "                if OldGold is snails\n",
    "                if nextto(Chesterfields, fox)\n",
    "                if nextto(Kools, horse)\n",
    "                )"
   ]
  },
  {
   "cell_type": "code",
   "execution_count": 29,
   "metadata": {},
   "outputs": [
    {
     "name": "stdout",
     "output_type": "stream",
     "text": [
      "zebra_puzzle got (1, 5) with 0 iters over 0 items\n"
     ]
    }
   ],
   "source": [
    "instruments_fn(zebra_puzzle)"
   ]
  },
  {
   "cell_type": "markdown",
   "metadata": {},
   "source": [
    "## 2. Cryptarithmetic"
   ]
  },
  {
   "cell_type": "code",
   "execution_count": null,
   "metadata": {
    "collapsed": true
   },
   "outputs": [],
   "source": [
    "import string, re \n",
    "\n",
    "def solve(formula):\n",
    "    \"\"\"Given a formula like 'ODD + ODD == EVEN', fill in digits to solve it.\n",
    "    Input formula is a string; output is a digit-filled-in string or None.\"\"\"\n",
    "    for f in fill_in(formula):\n",
    "        if valid(f):\n",
    "            return f\n",
    "    \n",
    "# assume: def fill_in(formula):\n",
    "#        \"Generate all possible fillings-in of letters in formula with digits.\"\n",
    "    \n",
    "def valid(f):\n",
    "    \"\"\"Formula f is valid if and only if it has no \n",
    "    numbers with leading zero, and evals true.\"\"\"\n",
    "    try: \n",
    "        return not re.search(r'\\b0[0-9]', f) and eval(f) is True\n",
    "    except ArithmeticError:\n",
    "        return False"
   ]
  },
  {
   "cell_type": "code",
   "execution_count": 30,
   "metadata": {
    "collapsed": true
   },
   "outputs": [],
   "source": [
    "eval?\n",
    "# rethinking eval"
   ]
  },
  {
   "cell_type": "code",
   "execution_count": 12,
   "metadata": {},
   "outputs": [
    {
     "name": "stdout",
     "output_type": "stream",
     "text": [
      "\n",
      "              TWO + TWO == FOUR\n",
      "0.0023 sec:   765 + 765 == 1530 \n",
      "\n",
      "                          A**2 + B**2 == C**2\n",
      "0.0003 sec:               3**2 + 4**2 == 5**2 \n",
      "\n",
      "                          A**2 + BE**2 == BY**2\n",
      "0.0023 sec:               3**2 + 04**2 == 05**2 \n",
      "\n",
      "                          X / X == X\n",
      "0.0001 sec:               1 / 1 == 1 \n",
      "\n",
      "                          A**N + B**N == C**N and N > 1\n",
      "0.0015 sec:               3**2 + 4**2 == 5**2 and 2 > 1 \n",
      "\n",
      "                          ATOM**0.5 == A + TO + M\n",
      "0.0013 sec:               6724**0.5 == 6 + 72 + 4 \n",
      "\n",
      "                          GLITTERS is not GOLD\n",
      "0.0002 sec:               13577682 is not 1934 \n",
      "\n",
      "                          ONE < TWO and FOUR < FIVE\n",
      "0.0002 sec:               036 < 780 and 1049 < 1526 \n",
      "\n",
      "                          ONE < TWO < THREE\n",
      "0.0001 sec:               023 < 450 < 41633 \n",
      "\n",
      "                          RAMN == R**3 + RM**3 == N**3 + RX**3\n",
      "0.0325 sec:               1729 == 1**3 + 12**3 == 9**3 + 10**3 \n",
      "\n",
      "                          sum(range(AA)) == BB\n",
      "0.0001 sec:               sum(range(11)) == 55 \n",
      "\n",
      "                          sum(range(POP)) == BOBO\n",
      "0.0035 sec:               sum(range(101)) == 5050 \n",
      "\n",
      "                          ODD + ODD == EVEN\n",
      "0.0066 sec:               655 + 655 == 1310 \n",
      "\n",
      "                          PLUTO not in set([PLANETS])\n",
      "0.0001 sec:               72469 not in set([7283561]) \n",
      "0.0609 tot.\n"
     ]
    }
   ],
   "source": [
    "from __future__ import division #use python3 calculate\n",
    "import string, re \n",
    "import itertools\n",
    "import time\n",
    "\n",
    "def solve(formula):\n",
    "    \"\"\"Given a formula like 'ODD + ODD == EVEN', fill in digits to solve it.\n",
    "    Input formula is a string; output is a digit-filled-in string or None.\"\"\"\n",
    "    for answer in (f for f in fill_in(formula) if valid(f)):\n",
    "        return answer\n",
    "\n",
    "def fill_in(formula):\n",
    "    \"Generate all possible fillings-in of letters in formula with digits.\"\n",
    "    letters = ''.join(set(l for l in formula if l in string.uppercase))\n",
    "    #letters = ''.join(set(re.findall('[A-Z]', formula)))\n",
    "    for digits in itertools.permutations('1234567890', len(letters)):\n",
    "        table = str.maketrans(letters, ''.join(digits))\n",
    "        yield formula.translate(table)\n",
    "\n",
    "def valid(f):\n",
    "    \"\"\"Formula f is valid if and only if it has no\n",
    "    numbers with leading zero, and evals true.\"\"\"\n",
    "    try:\n",
    "        return not re.search(r'\\b0[0-9]', f) and eval(f) is True\n",
    "    except ArithmeticError:\n",
    "        return False\n",
    "\n",
    "def faster_solve(formula):\n",
    "    \"\"\"Given a formula like 'ODD + ODD == EVEN', fill in digits to solve it.\n",
    "    Input formula is a string; output is a digit-filled-in string or None.\n",
    "    This version precompiles the formula; only one eval per formula.\"\"\"\n",
    "    f, letters = compile_formula(formula)\n",
    "    for digits in itertools.permutations((1,2,3,4,5,6,7,8,9,0), len(letters)):\n",
    "        try:\n",
    "            if f(*digits) is True:\n",
    "                #table = string.maketrans(letters, ''.join(map(str, digits)))\n",
    "                table = str.maketrans(letters, ''.join(map(str, digits)))\n",
    "                return formula.translate(table)\n",
    "        except ArithmeticError:\n",
    "            pass\n",
    "\n",
    "def compile_formula(formula, verbose=False):\n",
    "    \"\"\"Compile formula into a function.   Also return letters found, as a str,\n",
    "    in same order as parms of function. For example, 'YOU == ME**2' returns\n",
    "    (lambda Y, M, E, U, O): (U+10*O+100*Y) == (E+10*M)**2), 'YMEUO' \"\"\"\n",
    "    letters = ''.join(set(re.findall('[A-Z]', formula)))\n",
    "    parms = ', '.join(letters)\n",
    "    tokens = map(compile_word, re.split('([A-Z]+)', formula))\n",
    "    #\n",
    "    body = ''.join(tokens)\n",
    "    f = 'lambda {} : {}'.format(parms, body)\n",
    "    \n",
    "    if verbose: \n",
    "        print(f)\n",
    "    return eval(f), letters\n",
    "\n",
    "def compile_word(word):\n",
    "    \"\"\"Compile a word of uppercase letters as numeric digits.\n",
    "    E.g., compile_word('YOU') => '(1*U+10*O+100*Y)'\n",
    "    Non-uppercase words unchanged: compile_word('+') => '+'\"\"\"\n",
    "    if word.isupper():\n",
    "        #terms = [('%s*%s' % (10**i, d))\n",
    "        terms = [('{}*{}'.format(10**i, d))        \n",
    "                for (i, d) in enumerate(word[::-1])]\n",
    "        return '(' + '+'.join(terms) + ')'\n",
    "    else:\n",
    "        return word\n",
    "\n",
    "examples = \"\"\"TWO + TWO == FOUR\n",
    "            A**2 + B**2 == C**2\n",
    "            A**2 + BE**2 == BY**2\n",
    "            X / X == X\n",
    "            A**N + B**N == C**N and N > 1\n",
    "            ATOM**0.5 == A + TO + M\n",
    "            GLITTERS is not GOLD\n",
    "            ONE < TWO and FOUR < FIVE\n",
    "            ONE < TWO < THREE\n",
    "            RAMN == R**3 + RM**3 == N**3 + RX**3\n",
    "            sum(range(AA)) == BB\n",
    "            sum(range(POP)) == BOBO\n",
    "            ODD + ODD == EVEN\n",
    "            PLUTO not in set([PLANETS])\"\"\".splitlines()\n",
    "\n",
    "def test():\n",
    "    t0 = time.clock()\n",
    "    for example in examples:\n",
    "        print()\n",
    "        print(13*' ', example)\n",
    "        #print('%6.4f sec:   %sa ' % timedcall(faster_solve, example))\n",
    "        print('{:6.4f} sec:   {} '.format(*timedcall(faster_solve, example)))\n",
    "        #ti, result = timedcall(faster_solve, example)\n",
    "        #print('{:6.4f} sec:   {} '.format(ti, result))\n",
    "    print('{:6.4f} tot.'.format(time.clock()-t0))\n",
    "    \n",
    "def timedcall(fn, *args):\n",
    "    \"Call function with args; return the time in seconds and result.\"\n",
    "    t0 = time.clock()\n",
    "    result = fn(*args)\n",
    "    t1 = time.clock()\n",
    "    return t1-t0, result\n",
    "\n",
    "def average(numbers):\n",
    "    \"Return the average (arithmetic mean) of a sequence of numbers.\"\n",
    "    return sum(numbers) / float(len(numbers))\n",
    "\n",
    "def timedcalls(n, fn, *args):\n",
    "    \"\"\"Call fn(*args) repeatedly: n times if n is an int, or up to\n",
    "    n seconds if n is a float; return the min, avg, and max time\"\"\"\n",
    "    if isinstance(n, int):\n",
    "        times = [timedcall(fn, *args)[0] for _ in range(n)]\n",
    "    else:\n",
    "        times = []\n",
    "        total = 0.0\n",
    "        while total < n:\n",
    "            t = timedcall(fn, *args)[0]\n",
    "            total += t\n",
    "            times.append(t)\n",
    "    return min(times), average(times), max(times)\n",
    "\n",
    "test()"
   ]
  },
  {
   "cell_type": "code",
   "execution_count": 15,
   "metadata": {},
   "outputs": [
    {
     "data": {
      "text/plain": [
       "'tests pass'"
      ]
     },
     "execution_count": 15,
     "metadata": {},
     "output_type": "execute_result"
    }
   ],
   "source": [
    "## No leading zero\n",
    "\n",
    "# --------------\n",
    "# User Instructions\n",
    "# \n",
    "# Modify the function compile_formula so that the function \n",
    "# it returns, f, does not allow numbers where the first digit\n",
    "# is zero. So if the formula contained YOU, f would return \n",
    "# False anytime that Y was 0 \n",
    "\n",
    "import re\n",
    "import itertools\n",
    "import string\n",
    "\n",
    "def compile_formula(formula, verbose=False):\n",
    "    \"\"\"Compile formula into a function. Also return letters found, as a str,\n",
    "    in same order as parms of function. The first digit of a multi-digit \n",
    "    number can't be 0. So if YOU is a word in the formula, and the function\n",
    "    is called with Y eqal to 0, the function should return False\n",
    "    for example: YOU == ME ** 2\n",
    "                 lambda ...: Y != 0 and M !=0\n",
    "    \"\"\"\n",
    "    \n",
    "    letters = ''.join(set(re.findall('[A-Z]', formula)))\n",
    "    firstletters  = set(re.findall(r'\\b([A-Z])[A-Z]', formula)) # new line\n",
    "    parms = ', '.join(letters)\n",
    "    tokens = map(compile_word, re.split('([A-Z]+)', formula))\n",
    "    body = ''.join(tokens)\n",
    "    if firstletters:\n",
    "        tests = ' and '.join(L+'!=0' for L in firstletters)\n",
    "        body = '{} and {}'.format(tests, body)\n",
    "    f = 'lambda {} : {}'.format(parms, body)\n",
    "    if verbose: print(f)\n",
    "    return eval(f), letters\n",
    "\n",
    "def compile_word(word):\n",
    "    \"\"\"Compile a word of uppercase letters as numeric digits.\n",
    "    E.g., compile_word('YOU') => '(1*U+10*O+100*Y)'\n",
    "    Non-uppercase words uncahanged: compile_word('+') => '+'\"\"\"\n",
    "    if word.isupper():\n",
    "        terms = [('%s*%s' % (10**i, d)) \n",
    "                 for (i, d) in enumerate(word[::-1])]\n",
    "        return '(' + '+'.join(terms) + ')'\n",
    "    else:\n",
    "        return word\n",
    "    \n",
    "def faster_solve(formula):\n",
    "    \"\"\"Given a formula like 'ODD + ODD == EVEN', fill in digits to solve it.\n",
    "    Input formula is a string; output is a digit-filled-in string or None.\n",
    "    This version precompiles the formula; only one eval per formula.\"\"\"\n",
    "    f, letters = compile_formula(formula)\n",
    "    for digits in itertools.permutations((1,2,3,4,5,6,7,8,9,0), len(letters)):\n",
    "        try:\n",
    "            if f(*digits) is True:\n",
    "                #table = string.maketrans(letters, ''.join(map(str, digits)))\n",
    "                table = str.maketrans(letters, ''.join(map(str, digits)))\n",
    "                return formula.translate(table)\n",
    "        except ArithmeticError:\n",
    "            pass\n",
    "\n",
    "def test():\n",
    "    assert faster_solve('A + B == BA') == None # should NOT return '1 + 0 == 01'\n",
    "    assert faster_solve('YOU == ME**2') == ('289 == 17**2' or '576 == 24**2' or '841 == 29**2')\n",
    "    assert faster_solve('X / X == X') == '1 / 1 == 1'\n",
    "    return 'tests pass'\n",
    "\n",
    "\n",
    "test()"
   ]
  },
  {
   "cell_type": "code",
   "execution_count": null,
   "metadata": {
    "collapsed": true
   },
   "outputs": [],
   "source": [
    "## 3. Mockstr.py"
   ]
  },
  {
   "cell_type": "code",
   "execution_count": null,
   "metadata": {
    "collapsed": true
   },
   "outputs": [],
   "source": [
    "def _unmockstr(x):\n",
    "    \"Secret function to convert mockstr back to str; leaves other objects unchanged.\"\n",
    "    return str.__str__(x) if isinstance(x, mockstr) else x\n",
    "\n",
    "class mockstr(str):\n",
    "    \"\"\"An object that looks and acts like a str, but counts comparisons and accesses.\n",
    "    Obeys two rules:\n",
    "    (1) Any piece of a mockstr that is returned must be a mockstr (not a str)\n",
    "    (2) Any comparison or access increments num_comparisons or num_accesses\n",
    "    Despite these precautions, the class is Not secure against many simple attacks,\n",
    "    including map(ord, s) or str.__str__(s).\n",
    "    \"\"\"\n",
    "\n",
    "    ## Track total number of comparisons and accesses to any mockstr objects\n",
    "    num_comparisons, num_accesses = 0, 0\n",
    "\n",
    "    def __getitem__(self, i):\n",
    "        \"s[i] counts as 1 access.\"\n",
    "        mockstr.num_accesses += 1\n",
    "        return mockstr(_unmockstr(self)[i])\n",
    "\n",
    "    def __getslice__(self, start, end):\n",
    "        \"s[i:i+n] counts as n accesses.\"\n",
    "        end = min(len(self), end)\n",
    "        mockstr.num_accesses += (end - start)\n",
    "        return mockstr(_unmockstr(self)[start:end])\n",
    "\n",
    "    ## s1 == s2 counts as len(s1) comparisons (so s[i] == s[j] counts as 1).\n",
    "    def __eq__(self, other): return self._c() == _unmockstr(other)\n",
    "    def __ne__(self, other): return self._c() != _unmockstr(other)\n",
    "    def __ge__(self, other): return self._c() >= _unmockstr(other)\n",
    "    def __le__(self, other): return self._c() <= _unmockstr(other)\n",
    "    def __gt__(self, other): return self._c() >  _unmockstr(other)\n",
    "    def __lt__(self, other): return self._c() <  _unmockstr(other)\n",
    "\n",
    "    def _c(self):\n",
    "        \"Secret method to convert to str, incrementing num_comparisons by len(self).\"\n",
    "        mockstr.num_comparisons += len(self)\n",
    "        return _unmockstr(self)\n",
    "\n",
    "    def _a(self):\n",
    "        \"Secret method to convert to str, incrementing accesses by len(self).\"\n",
    "        mockstr.num_accesses += len(self)\n",
    "        return _unmockstr(self)\n",
    "\n",
    "    ## Any piece of self returned by normal methods should be a mockstr, not a str.\n",
    "    def upper(self):        return mockstr(self._a().upper())\n",
    "    def lower(self):        return mockstr(self._a().lower())\n",
    "    def title(self):        return mockstr(self._a().title())\n",
    "    def capitalize(self):   return mockstr(self._a().capitalize())\n",
    "    def swapcase(self):     return mockstr(self._a().swapcase())\n",
    "    def strip(self):        return mockstr(self._a().strip())\n",
    "    def lstrip(self):       return mockstr(self._a().lstrip())\n",
    "    def rstrip(self):       return mockstr(self._a().rstrip())\n",
    "    def split(self, *args): return map(mockstr, self._a().split(*args))\n",
    "    def rsplit(self, *args):return map(mockstr, self._a().rsplit(*args))\n",
    "    def join(self, *args):  return mockstr(self._a().join(*args))\n",
    "    def __mod__(self, tup): return mockstr(self._a() % tup)\n",
    "\n",
    "    def __str__(self):\n",
    "        return '<mockstr %r of len %d at 0x%x>' % (_unmockstr(self), len(self), id(self))\n",
    "\n",
    "    __repr__ = __str__\n",
    "\n",
    "    @staticmethod\n",
    "    def reset(verbose=True):\n",
    "        \"Reset counts to zero, and optionally, before resetting, print the counts.\"\n",
    "        if verbose: print 'mockstr: %d accesses and %d comparisons' % (\n",
    "                mockstr.num_accesses, mockstr.num_comparisons)\n",
    "        mockstr.num_accesses, mockstr.num_comparisons = 0, 0\n",
    "\n",
    "##############################################################################\n",
    "\n",
    "class test_mockstr:\n",
    "    \"\"\"## You can run this test with: python -m doctest mockstr.py\n",
    ">>> s = mockstr('0123456789')\n",
    ">>> len(s)\n",
    "10\n",
    ">>> s[0] == '0'\n",
    "True\n",
    ">>> s[-1] == '9'\n",
    "True\n",
    ">>> s.reset()\n",
    "mockstr: 2 accesses and 2 comparisons\n",
    ">>> s[0] == s[1]\n",
    "False\n",
    ">>> s.reset()\n",
    "mockstr: 2 accesses and 1 comparisons\n",
    "\n",
    ">>> sum(a == b for a in s for b in s)\n",
    "10\n",
    ">>> s.reset()\n",
    "mockstr: 121 accesses and 100 comparisons\n",
    "\n",
    ">>> items = list(s)\n",
    ">>> sum(a == b for a in items for b in items)\n",
    "10\n",
    ">>> s.reset()\n",
    "mockstr: 11 accesses and 100 comparisons\n",
    "\n",
    ">>> s1, s2 = mockstr('this THAT').split()\n",
    ">>> s.reset()\n",
    "mockstr: 9 accesses and 0 comparisons\n",
    ">>> s1[0] == s2[0]\n",
    "False\n",
    ">>> s.reset()\n",
    "mockstr: 2 accesses and 1 comparisons\n",
    ">>> s1[0].upper() == s2[0].upper()\n",
    "True\n",
    ">>> s.reset()\n",
    "mockstr: 4 accesses and 1 comparisons\n",
    "\"\"\""
   ]
  },
  {
   "cell_type": "markdown",
   "metadata": {
    "collapsed": true
   },
   "source": [
    "## Notes\n",
    "\n",
    "### 1. str.format()"
   ]
  },
  {
   "cell_type": "code",
   "execution_count": 36,
   "metadata": {},
   "outputs": [
    {
     "data": {
      "text/plain": [
       "3.141592653589793"
      ]
     },
     "execution_count": 36,
     "metadata": {},
     "output_type": "execute_result"
    }
   ],
   "source": [
    "from math  import pi\n",
    "pi"
   ]
  },
  {
   "cell_type": "code",
   "execution_count": 37,
   "metadata": {},
   "outputs": [
    {
     "name": "stdout",
     "output_type": "stream",
     "text": [
      "3.14\n"
     ]
    }
   ],
   "source": [
    "print(\"{:.2f}\".format(pi))"
   ]
  },
  {
   "cell_type": "code",
   "execution_count": 43,
   "metadata": {},
   "outputs": [
    {
     "name": "stdout",
     "output_type": "stream",
     "text": [
      "-2.00\n"
     ]
    }
   ],
   "source": [
    "print(\"{:+.2f}\".format(-2))"
   ]
  },
  {
   "cell_type": "code",
   "execution_count": 50,
   "metadata": {},
   "outputs": [
    {
     "name": "stdout",
     "output_type": "stream",
     "text": [
      "31.4159%\n"
     ]
    }
   ],
   "source": [
    "print(\"{:.4%}\".format(0.1 * pi))"
   ]
  },
  {
   "cell_type": "code",
   "execution_count": 66,
   "metadata": {},
   "outputs": [
    {
     "name": "stdout",
     "output_type": "stream",
     "text": [
      "    5     #middle align\n",
      "5         #left align\n",
      " 5\n"
     ]
    }
   ],
   "source": [
    "print(\"{0:^10d}{1}\\n{0:<10d}{2}\\n{0:>2d}\".format(5, \"#middle align\", \"#left align\"))"
   ]
  },
  {
   "cell_type": "code",
   "execution_count": 67,
   "metadata": {},
   "outputs": [
    {
     "data": {
      "text/plain": [
       "' I took the cheese off the table '"
      ]
     },
     "execution_count": 67,
     "metadata": {},
     "output_type": "execute_result"
    }
   ],
   "source": [
    "# order not important\n",
    "madlib = \" I {verb} the {object} off the {place} \".format(object=\"cheese\", verb=\"took\", place=\"table\")\n",
    "madlib"
   ]
  },
  {
   "cell_type": "code",
   "execution_count": 61,
   "metadata": {},
   "outputs": [
    {
     "name": "stdout",
     "output_type": "stream",
     "text": [
      "Your email address was xxx@gmail.com\n"
     ]
    }
   ],
   "source": [
    "# as function\n",
    "email_f = \"Your email address was {email}\".format\n",
    "print(email_f(email=\"xxx@gmail.com\"))"
   ]
  },
  {
   "cell_type": "code",
   "execution_count": 65,
   "metadata": {},
   "outputs": [
    {
     "name": "stdout",
     "output_type": "stream",
     "text": [
      " The empty set is often represented as {0} \n"
     ]
    }
   ],
   "source": [
    "# if want keep {}, twice time\n",
    "print(\" The {} set is often represented as {{0}} \".format(\"empty\"))"
   ]
  },
  {
   "cell_type": "markdown",
   "metadata": {},
   "source": [
    "### 2.re"
   ]
  },
  {
   "cell_type": "code",
   "execution_count": null,
   "metadata": {
    "collapsed": true
   },
   "outputs": [],
   "source": []
  }
 ],
 "metadata": {
  "kernelspec": {
   "display_name": "Python 3",
   "language": "python",
   "name": "python3"
  },
  "language_info": {
   "codemirror_mode": {
    "name": "ipython",
    "version": 3
   },
   "file_extension": ".py",
   "mimetype": "text/x-python",
   "name": "python",
   "nbconvert_exporter": "python",
   "pygments_lexer": "ipython3",
   "version": "3.6.2"
  }
 },
 "nbformat": 4,
 "nbformat_minor": 1
}
