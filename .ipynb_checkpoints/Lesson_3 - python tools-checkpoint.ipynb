{
 "cells": [
  {
   "cell_type": "markdown",
   "metadata": {},
   "source": [
    "- language: is a set of strings\n",
    "- grammer: is a description of a language(API)\n",
    "- compiler\n",
    "- interpreter\n",
    "- design tools:\n",
    "    1. language\n",
    "    2. function\n",
    "    \n",
    "buld useful tools, and put them together\n",
    "\n",
    "RE built up by these types of calls    \n",
    "lit(s): literal of some string S."
   ]
  },
  {
   "cell_type": "code",
   "execution_count": 1,
   "metadata": {
    "collapsed": true
   },
   "outputs": [],
   "source": [
    "import re"
   ]
  },
  {
   "cell_type": "markdown",
   "metadata": {},
   "source": [
    "### RE :\n",
    "\n",
    "RE Characters  | Means\n",
    "------------- | -----\n",
    "c | matches any literal character c\n",
    ". | matches any single character\n",
    "^ | matches the beginning of the input string\n",
    "$ | matches the end of the input string\n",
    "* | matches zero or more occurrences of the previous character\n",
    "\n",
    "ref to: [A Regular Expression Matcher](http://www.cs.princeton.edu/courses/archive/spr09/cos333/beautiful.html)"
   ]
  },
  {
   "cell_type": "code",
   "execution_count": 4,
   "metadata": {},
   "outputs": [
    {
     "data": {
      "text/plain": [
       "2"
      ]
     },
     "execution_count": 4,
     "metadata": {},
     "output_type": "execute_result"
    }
   ],
   "source": [
    "s = \"some long time to learn re\"\n",
    "s.find('m\\')"
   ]
  },
  {
   "cell_type": "code",
   "execution_count": null,
   "metadata": {
    "collapsed": true
   },
   "outputs": [],
   "source": [
    "def search(pattern, text):\n",
    "    \"Return True if pattern appears anywherer in text.\"\n",
    "    if pattern.startswitch('^'):\n",
    "        return match(pattern[1:], text)\n",
    "    else:\n",
    "        return match('.*'+pattern, text)"
   ]
  },
  {
   "cell_type": "code",
   "execution_count": null,
   "metadata": {
    "collapsed": true
   },
   "outputs": [],
   "source": [
    "def match(pattern, text):\n",
    "    \"Return True if pattern appears at the start of text.\"\n",
    "    if pattern == '':\n",
    "        return True\n",
    "    elif pattern == '$': # equal end\n",
    "        return (text == '')\n",
    "    elif len(pattern) > 1 and pattern[1] in '*?':\n",
    "        p, op, pat = pattern[0], pattern[1], pattern[2:]\n",
    "        if op == '*':\n",
    "            return match_star(p, pat, text)\n",
    "        elif op == '?':\n",
    "            if match1(p, text) and match(pat, text[1:]):\n",
    "                return True\n",
    "            else:\n",
    "                return match(pat, text)\n",
    "    else:\n",
    "        return (match1(pattern[0], text) and\n",
    "                match(pattern[1:], text[1:]))\n",
    "    \n",
    "def match1(p, text):\n",
    "    \"Return True if first character of text matches pattern character p.\"\n",
    "    if not text: return False\n",
    "    return p == '.' or p == text[0]\n",
    "\n",
    "def match_star(p, pattern, text):\n",
    "    \"Return true if any number of char p, followed by pattern, matches text.\"\n",
    "    return (match(pattern, text) or\n",
    "            (match1(p, text) and\n",
    "            match_star(p, pattern, text[1:])))"
   ]
  },
  {
   "cell_type": "code",
   "execution_count": 6,
   "metadata": {},
   "outputs": [
    {
     "name": "stdout",
     "output_type": "stream",
     "text": [
      "tests pass\n"
     ]
    }
   ],
   "source": [
    "# The function, matchset, takes a pattern and a text as input\n",
    "# and returns a set of remainders. For example, if matchset \n",
    "# were called with the pattern star(lit(a)) and the text \n",
    "# 'aaab', matchset would return a set with elements \n",
    "# {'aaab', 'aab', 'ab', 'b'}, since a* can consume one, two\n",
    "# or all three of the a's in the text.\n",
    "# dot:   matches any character.\n",
    "# oneof: matches any of the characters in the string it is \n",
    "#        called with. oneof('abc') will match a or b or c.\n",
    "\n",
    "def matchset(pattern, text):\n",
    "    \"Match pattern at start of text; return a set of remainders of text.\"\n",
    "    op, x, y = components(pattern)\n",
    "    if 'lit' == op:\n",
    "        return set([text[len(x):]]) if text.startswith(x) else null\n",
    "    elif 'seq' == op:\n",
    "        return set(t2 for t1 in matchset(x, text) for t2 in matchset(y, t1))\n",
    "    elif 'alt' == op:\n",
    "        return matchset(x, text) | matchset(y, text)\n",
    "    elif 'dot' == op:\n",
    "        return set([text[1:]]) if text else null\n",
    "    elif 'oneof' == op:\n",
    "        return set([text[1:]]) if any(text.startswith(c) for c in x) else null\n",
    "    elif 'eol' == op:\n",
    "        return set(['']) if text == '' else null\n",
    "    elif 'star' == op:\n",
    "        return (set([text]) |\n",
    "                set(t2 for t1 in matchset(x, text)\n",
    "                    for t2 in matchset(pattern, t1) if t1 != text))\n",
    "    else:\n",
    "        raise ValueError('unknown pattern: %s' % pattern)\n",
    "        \n",
    "null = frozenset()\n",
    "\n",
    "def components(pattern):\n",
    "    \"Return the op, x, and y arguments; x and y are None if missing.\"\n",
    "    x = pattern[1] if len(pattern) > 1 else None\n",
    "    y = pattern[2] if len(pattern) > 2 else None\n",
    "    return pattern[0], x, y\n",
    "   \n",
    "def test():\n",
    "    assert matchset(('lit', 'abc'), 'abcdef')            == set(['def'])\n",
    "    assert matchset(('seq', ('lit', 'hi '),\n",
    "                     ('lit', 'there ')), \n",
    "                   'hi there nice to meet you')          == set(['nice to meet you'])\n",
    "    assert matchset(('alt', ('lit', 'dog'), \n",
    "                    ('lit', 'cat')), 'dog and cat')      == set([' and cat'])\n",
    "    assert matchset(('dot',), 'am i missing something?') == set(['m i missing something?'])\n",
    "    assert matchset(('oneof', 'a'), 'aabc123')           == set(['abc123'])\n",
    "    assert matchset(('eol',),'')                         == set([''])\n",
    "    assert matchset(('eol',),'not end of line')          == frozenset([])\n",
    "    assert matchset(('star', ('lit', 'hey')), 'heyhey!') == set(['!', 'heyhey!', 'hey!'])\n",
    "    \n",
    "    return 'tests pass'\n",
    "\n",
    "print(test())"
   ]
  },
  {
   "cell_type": "code",
   "execution_count": 10,
   "metadata": {},
   "outputs": [
    {
     "name": "stdout",
     "output_type": "stream",
     "text": [
      "tests pass\n"
     ]
    }
   ],
   "source": [
    "def lit(string):  return ('lit', string)\n",
    "def seq(x, y):    return ('seq', x, y)\n",
    "def alt(x, y):    return ('alt', x, y)\n",
    "def star(x):      return ('star', x)\n",
    "def plus(x):      return (seq(x, star(x)))\n",
    "def opt(x):       return alt(lit(''), x)  #opt(x) means that x is optional\n",
    "def oneof(chars): return ('oneof', tuple(chars))\n",
    "dot = ('dot',)\n",
    "eol = ('eol',)\n",
    "\n",
    "def test():\n",
    "    assert lit('abc')         == ('lit', 'abc')\n",
    "    assert seq(('lit', 'a'), \n",
    "               ('lit', 'b'))  == ('seq', ('lit', 'a'), ('lit', 'b'))\n",
    "    assert alt(('lit', 'a'), \n",
    "               ('lit', 'b'))  == ('alt', ('lit', 'a'), ('lit', 'b'))\n",
    "    assert star(('lit', 'a')) == ('star', ('lit', 'a'))\n",
    "    assert plus(('lit', 'c')) == ('seq', ('lit', 'c'), \n",
    "                                  ('star', ('lit', 'c')))\n",
    "    assert opt(('lit', 'x'))  == ('alt', ('lit', ''), ('lit', 'x'))\n",
    "    assert oneof('abc')       == ('oneof', ('a', 'b', 'c'))\n",
    "    return 'tests pass'\n",
    "\n",
    "print(test())"
   ]
  },
  {
   "cell_type": "code",
   "execution_count": 12,
   "metadata": {},
   "outputs": [
    {
     "name": "stdout",
     "output_type": "stream",
     "text": [
      "tests pass\n"
     ]
    }
   ],
   "source": [
    "## API function for Search and Match\n",
    "\n",
    "def search(pattern, text):\n",
    "    \"Match pattern anywhere in text; return longest earliest match or None.\"\n",
    "    for i in range(len(text)):\n",
    "        m = match(pattern, text[i:])\n",
    "        if m is not None\n",
    "            return m\n",
    "        \n",
    "def match(pattern, text):\n",
    "    \"Match pattern against start of text; return longest match found or None.\"\n",
    "    remainders = matchset(pattern, text)\n",
    "    if remainders:\n",
    "        shortest = min(remainders, key=len)\n",
    "        return text[:len(text) - len(shortest)]\n",
    "    \n",
    "def components(pattern):\n",
    "    \"Return the op, x, and y arguments; x and y are None if missing.\"\n",
    "    x = pattern[1] if len(pattern) > 1 else None\n",
    "    y = pattern[2] if len(pattern) > 2 else None\n",
    "    return pattern[0], x, y\n",
    "\n",
    "def matchset(pattern, text):\n",
    "    \"Match pattern at start of text; return a set of remainders of text.\"\n",
    "    op, x, y = components(pattern)\n",
    "    if 'lit' == op:\n",
    "        return set([text[len(x):]]) if text.startswith(x) else null\n",
    "    elif 'seq' == op:\n",
    "        return set(t2 for t1 in matchset(x, text) for t2 in matchset(y, t1))\n",
    "    elif 'alt' == op:\n",
    "        return matchset(x, text) | matchset(y, text)\n",
    "    elif 'dot' == op:\n",
    "        return set([text[1:]]) if text else null\n",
    "    elif 'oneof' == op:\n",
    "        return set([text[1:]]) if text.startswith(x) else null\n",
    "    elif 'eol' == op:\n",
    "        return set(['']) if text == '' else null\n",
    "    elif 'star' == op:\n",
    "        return (set([text]) |\n",
    "                set(t2 for t1 in matchset(x, text)\n",
    "                    for t2 in matchset(pattern, t1) if t1 != text))\n",
    "    else:\n",
    "        raise ValueError('unknown pattern: %s' % pattern)\n",
    "    \n",
    "null = frozenset()\n",
    "\n",
    "def lit(string):  return ('lit', string)\n",
    "def seq(x, y):    return ('seq', x, y)\n",
    "def alt(x, y):    return ('alt', x, y)\n",
    "def star(x):      return ('star', x)\n",
    "def plus(x):      return seq(x, star(x))\n",
    "def opt(x):       return alt(lit(''), x)\n",
    "def oneof(chars): return ('oneof', tuple(chars))\n",
    "dot = ('dot',)\n",
    "eol = ('eol',)\n",
    "\n",
    "def test():\n",
    "    assert match(('star', ('lit', 'a')),'aaabcd') == 'aaa'\n",
    "    assert match(('alt', ('lit', 'b'), ('lit', 'c')), 'ab') == None\n",
    "    assert match(('alt', ('lit', 'b'), ('lit', 'a')), 'ab') == 'a'\n",
    "    assert search(('alt', ('lit', 'b'), ('lit', 'c')), 'ab') == 'b'\n",
    "    return 'tests pass'\n",
    "\n",
    "print(test())"
   ]
  },
  {
   "cell_type": "markdown",
   "metadata": {},
   "source": [
    "## \n",
    "compiling vs interpreter, ref to: https://www.programiz.com/article/difference-compiler-interpreter\n",
    "\n",
    "a compilation function takes the pattern, return a compiled object"
   ]
  },
  {
   "cell_type": "code",
   "execution_count": 15,
   "metadata": {},
   "outputs": [
    {
     "name": "stdout",
     "output_type": "stream",
     "text": [
      "test passes\n"
     ]
    }
   ],
   "source": [
    "## Compiling\n",
    "### Use compiling code replace upper interpeter\n",
    "\n",
    "def lit(s): return lambda text: set([text[len(s):]]) if text.startswith(s) else null\n",
    "\n",
    "def seq(x, y): return lambda text: set().union(*map(y, x(text)))\n",
    "\n",
    "def alt(x, y): return lambda text: y(text) | x(text)\n",
    "        \n",
    "null = frozenset([])\n",
    "\n",
    "def test():\n",
    "    g = alt(lit('a'), lit('b'))\n",
    "    assert g('abc') == set(['bc'])\n",
    "    return 'test passes'\n",
    "\n",
    "print(test())"
   ]
  },
  {
   "cell_type": "code",
   "execution_count": 28,
   "metadata": {},
   "outputs": [
    {
     "name": "stdout",
     "output_type": "stream",
     "text": [
      "tests pass\n"
     ]
    }
   ],
   "source": [
    "def match(pattern, text):\n",
    "    \"Match pattern against start of text; return longest match found or None.\"\n",
    "    remainders = pattern(text)\n",
    "    if remainders:\n",
    "        shortest = min(remainders, key=len)\n",
    "        return text[:len(text)-len(shortest)]\n",
    "    \n",
    "def lit(s): return lambda t: set([t[len(s):]]) if t.startswith(s) else null\n",
    "def seq(x, y): return lambda t: set().union(*map(y, x(t)))\n",
    "def alt(x, y): return lambda t: x(t) | y(t)\n",
    "def oneof(chars): return lambda t: set([t[1:]]) if (t and t[0] in chars) else null\n",
    "dot = lambda t: set([t[1:]]) if t else null\n",
    "eol = lambda t: set(['']) if t == '' else null\n",
    "def star(x): return lambda t: (set([t]) | \n",
    "                               set(t2 for t1 in x(t) if t1 != t\n",
    "                                   for t2 in star(x)(t1)))\n",
    "\n",
    "null = frozenset([])\n",
    "\n",
    "def test():\n",
    "    assert match(star(lit('a')), 'aaaaabbbaa') == 'aaaaa'\n",
    "    assert match(lit('hello'), 'hello how are you?') == 'hello'\n",
    "    assert match(lit('x'), 'hello how are you?') == None\n",
    "    assert match(oneof('xyz'), 'x**2 + y**2 = r**2') == 'x'\n",
    "    assert match(oneof('xyz'), '   x is here!') == None\n",
    "    return 'tests pass'\n",
    "\n",
    "print(test())"
   ]
  },
  {
   "cell_type": "code",
   "execution_count": 21,
   "metadata": {},
   "outputs": [
    {
     "data": {
      "text/plain": [
       "True"
      ]
     },
     "execution_count": 21,
     "metadata": {},
     "output_type": "execute_result"
    }
   ],
   "source": [
    "pat = lit('the') ## lit('the') is a pattern, compiled into a function\n",
    "text = 'them there eyes'\n",
    "pat(text) == set(['m there eyes'])"
   ]
  },
  {
   "cell_type": "code",
   "execution_count": 23,
   "metadata": {},
   "outputs": [
    {
     "data": {
      "text/plain": [
       "<function __main__.lit.<locals>.<lambda>>"
      ]
     },
     "execution_count": 23,
     "metadata": {},
     "output_type": "execute_result"
    }
   ],
   "source": [
    "pat"
   ]
  },
  {
   "cell_type": "code",
   "execution_count": 24,
   "metadata": {},
   "outputs": [
    {
     "data": {
      "text/plain": [
       "True"
      ]
     },
     "execution_count": 24,
     "metadata": {},
     "output_type": "execute_result"
    }
   ],
   "source": [
    "text = 'whole lot of trouble'\n",
    "pat(text) == set()"
   ]
  },
  {
   "cell_type": "code",
   "execution_count": 25,
   "metadata": {},
   "outputs": [
    {
     "data": {
      "text/plain": [
       "True"
      ]
     },
     "execution_count": 25,
     "metadata": {},
     "output_type": "execute_result"
    }
   ],
   "source": [
    "pat = alt(lit('the'), lit('them'))\n",
    "text = 'them there eyes'\n",
    "pat(text) == set([' there eyes', 'm there eyes'])"
   ]
  },
  {
   "cell_type": "markdown",
   "metadata": {},
   "source": [
    "## \n",
    "recognizers : match(pat, text) -> text | None\n",
    "generators  : gen(pat) -> Language"
   ]
  },
  {
   "cell_type": "code",
   "execution_count": 31,
   "metadata": {
    "collapsed": true
   },
   "outputs": [],
   "source": [
    "def lit(s): return lambda Ns: set([s]) if len(s) in Ns else null"
   ]
  },
  {
   "cell_type": "code",
   "execution_count": 32,
   "metadata": {},
   "outputs": [
    {
     "data": {
      "text/plain": [
       "<function __main__.lit.<locals>.<lambda>>"
      ]
     },
     "execution_count": 32,
     "metadata": {},
     "output_type": "execute_result"
    }
   ],
   "source": [
    "ss = 'hello'\n",
    "lit(ss)"
   ]
  },
  {
   "cell_type": "code",
   "execution_count": 37,
   "metadata": {},
   "outputs": [
    {
     "name": "stdout",
     "output_type": "stream",
     "text": [
      "tests pass\n"
     ]
    }
   ],
   "source": [
    "def lit(s):         return lambda Ns: set([s]) if len(s) in Ns else null\n",
    "def alt(x, y):      return lambda Ns: x(Ns) | y(Ns)\n",
    "def star(x):        return lambda Ns: opt(plus(x))(Ns)\n",
    "def plus(x):        return lambda Ns: genseq(x, star(x), Ns, startx=1) #Tricky\n",
    "def oneof(chars):   return lambda Ns: set(chars) if 1 in Ns else null\n",
    "def seq(x, y):      return lambda Ns: genseq(x, y, Ns)\n",
    "def opt(x):         return alt(epsilon, x)\n",
    "dot = oneof('?')    # You could expand the alphabet to more chars.\n",
    "epsilon = lit('')   # The pattern that matches the empty string.\n",
    "\n",
    "null = frozenset([])\n",
    "\n",
    "def test():\n",
    "    \n",
    "    f = lit('hello')\n",
    "    assert f(set([1, 2, 3, 4, 5])) == set(['hello'])\n",
    "    assert f(set([1, 2, 3, 4]))    == null \n",
    "    \n",
    "    g = alt(lit('hi'), lit('bye'))\n",
    "    assert g(set([1, 2, 3, 4, 5, 6])) == set(['bye', 'hi'])\n",
    "    assert g(set([1, 3, 5])) == set(['bye'])\n",
    "    \n",
    "    h = oneof('theseletters')\n",
    "    assert h(set([1, 2, 3])) == set(['t', 'h', 'e', 's', 'l', 'r'])\n",
    "    assert h(set([2, 3, 4])) == null\n",
    "    \n",
    "    return 'tests pass'\n",
    "\n",
    "print(test())"
   ]
  },
  {
   "cell_type": "code",
   "execution_count": 44,
   "metadata": {
    "collapsed": true
   },
   "outputs": [],
   "source": [
    "## avoiding repetition\n",
    "\n",
    "def lit(s):\n",
    "    set_s = set([s])\n",
    "    return lambda Ns: set_s if len(s) in Ns else null"
   ]
  },
  {
   "cell_type": "code",
   "execution_count": null,
   "metadata": {
    "collapsed": true
   },
   "outputs": [],
   "source": [
    "## def seq(x, y): return ('seq', x, y) \n",
    "def seq(x, *args): \n",
    "    if len(args) == 1:\n",
    "        return return ('seq', x, 'args[0]')\n",
    "    else: ~\n",
    "    \n",
    "f(x, y) -> f'(x, )"
   ]
  },
  {
   "cell_type": "code",
   "execution_count": 45,
   "metadata": {
    "collapsed": true
   },
   "outputs": [],
   "source": [
    "def n_ary(f):\n",
    "    \"\"\"Given binary function f(x, y), return an a_ary function such that f(x, y, z) = f(x, f(y, z))\"\"\"\n",
    "    def n_ary_f(x, *args):\n",
    "        return x if not args else f(x, n_ary_f(*args))\n",
    "    return n_ary_f\n",
    "\n",
    "def seq(x, y): return ('seq', x, y)\n",
    "\n",
    "seq = n_ary(seq)"
   ]
  },
  {
   "cell_type": "code",
   "execution_count": 48,
   "metadata": {},
   "outputs": [
    {
     "name": "stdout",
     "output_type": "stream",
     "text": [
      "Help on function n_ary_f in module __main__:\n",
      "\n",
      "n_ary_f(x, *args)\n",
      "\n"
     ]
    }
   ],
   "source": [
    "help(seq)"
   ]
  },
  {
   "cell_type": "code",
   "execution_count": 47,
   "metadata": {},
   "outputs": [
    {
     "name": "stdout",
     "output_type": "stream",
     "text": [
      "Help on function n_ary_f in module __main__:\n",
      "\n",
      "n_ary_f(x, *args)\n",
      "\n"
     ]
    }
   ],
   "source": [
    "## Decorator\n",
    "@n_ary\n",
    "def seq(x, y): return ('seq', x, y)\n",
    "\n",
    "help(seq)"
   ]
  },
  {
   "cell_type": "code",
   "execution_count": 6,
   "metadata": {
    "collapsed": true
   },
   "outputs": [],
   "source": [
    "from functools import update_wrapper\n",
    "## help to debug, copy function name and document\n",
    "\n",
    "\"\"\"\n",
    "def n_ary(f):\n",
    "    def n_ary_f(x, *args):\n",
    "        return x if not args else f(x, n_ary_f(*args))\\\n",
    "    update_wrapper(n_ary_f, f)\n",
    "    return n_ary_f\n",
    "\"\"\"\n",
    "\n",
    "def decorator(d):\n",
    "    \"\"\"Make function d a decorator: d wraps a function fn.\"\"\"\n",
    "    def _d(fn):\n",
    "        return update_wrapper(d(fn), fn)\n",
    "    update_wrapper(_d, d) #copy over into _d\n",
    "    return _db\n",
    "\n",
    "@decorator\n",
    "def n_ary(f):   #n_ary = decorator(n_ary)\n",
    "    def n_ary_f(x, *args):\n",
    "        return x if not args else f(x, n_ary_f(*args))\n",
    "    return n_ary_f"
   ]
  },
  {
   "cell_type": "code",
   "execution_count": 3,
   "metadata": {
    "collapsed": true
   },
   "outputs": [],
   "source": [
    "def decorator(decorator):\n",
    "    return lambda fn: update_wrapper(d(fn), fn)\n",
    "\n",
    "decorator = decorator(decorator)"
   ]
  },
  {
   "cell_type": "code",
   "execution_count": 11,
   "metadata": {
    "collapsed": true
   },
   "outputs": [],
   "source": [
    "## decorator save time\n",
    "\n",
    "@decorator\n",
    "def memo(f):\n",
    "    \"\"\"Decorator that caches the return value for each call to f(args).\n",
    "    then when called again with same args, we can just look up\"\"\"\n",
    "    cache = {}\n",
    "    def _f(*args):\n",
    "        try: \n",
    "            return cache[args]\n",
    "        except KeyError:\n",
    "            cache[args] = result = f(*args)\n",
    "            return result\n",
    "        except TypeError:\n",
    "            # some element of args can't be a dict key\n",
    "            return f(args)\n",
    "    return _f\n",
    "\n",
    "@decorator\n",
    "@memo\n",
    "def countcalls(f):\n",
    "    def _f(*args):\n",
    "        callcounts[_f] += 1\n",
    "        return f(*args)\n",
    "    callcounts[_f] = 0\n",
    "    return _f\n",
    "\n",
    "callcounts = {}\n",
    "\n",
    "@countcalls\n",
    "def fib(n): return 1 if n <= 1 else fib(n-1) + fib(n-2)"
   ]
  },
  {
   "cell_type": "code",
   "execution_count": 8,
   "metadata": {},
   "outputs": [
    {
     "name": "stdout",
     "output_type": "stream",
     "text": [
      "--> fib(6)\n",
      "   --> fib(5)\n",
      "      --> fib(4)\n",
      "         --> fib(3)\n",
      "            --> fib(2)\n",
      "               --> fib(1)\n",
      "               <-- fib(1) == 1\n",
      "               --> fib(0)\n",
      "               <-- fib(0) == 1\n",
      "            <-- fib(2) == 2\n",
      "            --> fib(1)\n",
      "            <-- fib(1) == 1\n",
      "         <-- fib(3) == 3\n",
      "         --> fib(2)\n",
      "            --> fib(1)\n",
      "            <-- fib(1) == 1\n",
      "            --> fib(0)\n",
      "            <-- fib(0) == 1\n",
      "         <-- fib(2) == 2\n",
      "      <-- fib(4) == 5\n",
      "      --> fib(3)\n",
      "         --> fib(2)\n",
      "            --> fib(1)\n",
      "            <-- fib(1) == 1\n",
      "            --> fib(0)\n",
      "            <-- fib(0) == 1\n",
      "         <-- fib(2) == 2\n",
      "         --> fib(1)\n",
      "         <-- fib(1) == 1\n",
      "      <-- fib(3) == 3\n",
      "   <-- fib(5) == 8\n",
      "   --> fib(4)\n",
      "      --> fib(3)\n",
      "         --> fib(2)\n",
      "            --> fib(1)\n",
      "            <-- fib(1) == 1\n",
      "            --> fib(0)\n",
      "            <-- fib(0) == 1\n",
      "         <-- fib(2) == 2\n",
      "         --> fib(1)\n",
      "         <-- fib(1) == 1\n",
      "      <-- fib(3) == 3\n",
      "      --> fib(2)\n",
      "         --> fib(1)\n",
      "         <-- fib(1) == 1\n",
      "         --> fib(0)\n",
      "         <-- fib(0) == 1\n",
      "      <-- fib(2) == 2\n",
      "   <-- fib(4) == 5\n",
      "<-- fib(6) == 13\n"
     ]
    },
    {
     "data": {
      "text/plain": [
       "13"
      ]
     },
     "execution_count": 8,
     "metadata": {},
     "output_type": "execute_result"
    }
   ],
   "source": [
    "## tracer tools\n",
    "\n",
    "@decorator\n",
    "def trace(f):\n",
    "    indent = '   '\n",
    "    def _f(*args):\n",
    "        signature = '%s(%s)' % (f.__name__, ', '.join(map(repr, args)))\n",
    "        print('%s--> %s' % (trace.level*indent, signature))\n",
    "        trace.level += 1\n",
    "        try:\n",
    "            result = f(*args)\n",
    "            print('%s<-- %s == %s' % ((trace.level-1)*indent, \n",
    "                                      signature, result))\n",
    "        finally:\n",
    "            trace.level -= 1\n",
    "        return result\n",
    "    trace.level = 0\n",
    "    return _f\n",
    "\n",
    "@trace\n",
    "def fib(n):\n",
    "    if n == 0 or n == 1:\n",
    "        return 1\n",
    "    else:\n",
    "        return fib(n-1) + fib(n-2)\n",
    "\n",
    "fib(6)"
   ]
  },
  {
   "cell_type": "code",
   "execution_count": 19,
   "metadata": {
    "collapsed": true
   },
   "outputs": [],
   "source": [
    "# ---------------\n",
    "# User Instructions\n",
    "#\n",
    "# Modify the parse function so that it doesn't repeat computations.\n",
    "# You have learned about a tool in this unit that prevents \n",
    "# repetitive computations. Try using that!\n",
    "#\n",
    "# For this question, the grader will be looking for a specific \n",
    "# solution. Hint: it should only involve adding one line of code\n",
    "# (and that line should only contain 5 characters).\n",
    "\n",
    "from functools import update_wrapper\n",
    "import re\n",
    "\n",
    "def parse(start_symbol, text, grammar):\n",
    "    \"\"\"Example call: parse('Exp', '3*x + b', G).\n",
    "    Returns a (tree, remainder) pair. If remainder is '', it parsed the whole\n",
    "    string. Failure iff remainder is None. This is a deterministic PEG parser,\n",
    "    so rule order (left-to-right) matters. Do 'E => T op E | T', putting the\n",
    "    longest parse first; don't do 'E => T | T op E'\n",
    "    Also, no left recursion allowed: don't do 'E => E op T'\"\"\"\n",
    "\n",
    "    tokenizer = grammar[' '] + '(%s)'\n",
    "\n",
    "    def parse_sequence(sequence, text):\n",
    "        result = []\n",
    "        for atom in sequence:\n",
    "            tree, text = parse_atom(atom, text)\n",
    "            if text is None: return Fail\n",
    "            result.append(tree)\n",
    "        return result, text\n",
    "    @memo\n",
    "    def parse_atom(atom, text):\n",
    "        if atom in grammar:  # Non-Terminal: tuple of alternatives\n",
    "            for alternative in grammar[atom]:\n",
    "                tree, rem = parse_sequence(alternative, text)\n",
    "                if rem is not None: return [atom]+tree, rem  \n",
    "            return Fail\n",
    "        else:  # Terminal: match characters against start of text\n",
    "            m = re.match(tokenizer % atom, text)\n",
    "            return Fail if (not m) else (m.group(1), text[m.end():])\n",
    "    \n",
    "    # Body of parse:\n",
    "    return parse_atom(start_symbol, text)\n",
    "\n",
    "Fail = (None, None)\n",
    "\n",
    "# The following decorators may help you solve this question. HINT HINT!\n",
    "\n",
    "def decorator(d):\n",
    "    \"Make function d a decorator: d wraps a function fn.\"\n",
    "    def _d(fn):\n",
    "        return update_wrapper(d(fn), fn)\n",
    "    update_wrapper(_d, d)\n",
    "    return _d\n",
    "\n",
    "@decorator\n",
    "def memo(f):\n",
    "    \"\"\"Decorator that caches the return value for each call to f(args).\n",
    "    Then when called again with same args, we can just look it up.\"\"\"\n",
    "    cache = {}\n",
    "    def _f(*args):\n",
    "        try:\n",
    "            return cache[args]\n",
    "        except KeyError:\n",
    "            cache[args] = result = f(*args)\n",
    "            return result\n",
    "        except TypeError:\n",
    "            # some element of args can't be a dict key\n",
    "            return f(args)\n",
    "    return _f"
   ]
  },
  {
   "cell_type": "markdown",
   "metadata": {},
   "source": [
    "## Homework 1 - Json Parser"
   ]
  },
  {
   "cell_type": "code",
   "execution_count": null,
   "metadata": {
    "collapsed": true
   },
   "outputs": [],
   "source": [
    "##http://json.org\n"
   ]
  },
  {
   "cell_type": "code",
   "execution_count": 41,
   "metadata": {},
   "outputs": [
    {
     "name": "stderr",
     "output_type": "stream",
     "text": [
      "ERROR:root:An unexpected error occurred while tokenizing input\n",
      "The following traceback may be corrupted or invalid\n",
      "The error message is: ('EOF in multi-line string', (1, 0))\n",
      "\n"
     ]
    },
    {
     "ename": "ValueError",
     "evalue": "not enough values to unpack (expected 2, got 1)",
     "output_type": "error",
     "traceback": [
      "\u001b[0;31m---------------------------------------------------------------------------\u001b[0m",
      "\u001b[0;31mValueError\u001b[0m                                Traceback (most recent call last)",
      "\u001b[0;32m<ipython-input-41-ef4d399b8cfb>\u001b[0m in \u001b[0;36m<module>\u001b[0;34m()\u001b[0m\n\u001b[1;32m    115\u001b[0m \u001b[0mfrac\u001b[0m \u001b[0;34m=\u001b[0m\u001b[0;34m>\u001b[0m \u001b[0;34m[\u001b[0m\u001b[0;34m.\u001b[0m\u001b[0;34m]\u001b[0m\u001b[0;34m[\u001b[0m\u001b[0;36m0\u001b[0m\u001b[0;34m-\u001b[0m\u001b[0;36m9\u001b[0m\u001b[0;34m]\u001b[0m\u001b[0;34m+\u001b[0m\u001b[0;34m\u001b[0m\u001b[0m\n\u001b[1;32m    116\u001b[0m \u001b[0mexp\u001b[0m \u001b[0;34m=\u001b[0m\u001b[0;34m>\u001b[0m \u001b[0;34m[\u001b[0m\u001b[0meE\u001b[0m\u001b[0;34m]\u001b[0m\u001b[0;34m[\u001b[0m\u001b[0;34m-\u001b[0m\u001b[0;34m+\u001b[0m\u001b[0;34m]\u001b[0m\u001b[0;31m?\u001b[0m\u001b[0;34m[\u001b[0m\u001b[0;36m0\u001b[0m\u001b[0;34m-\u001b[0m\u001b[0;36m9\u001b[0m\u001b[0;34m]\u001b[0m\u001b[0;34m+\u001b[0m\u001b[0;34m\u001b[0m\u001b[0m\n\u001b[0;32m--> 117\u001b[0;31m \"\"\", whitespace='\\s*')\n\u001b[0m\u001b[1;32m    118\u001b[0m \u001b[0;34m\u001b[0m\u001b[0m\n\u001b[1;32m    119\u001b[0m \u001b[0;32mdef\u001b[0m \u001b[0mjson_parse\u001b[0m\u001b[0;34m(\u001b[0m\u001b[0mtext\u001b[0m\u001b[0;34m)\u001b[0m\u001b[0;34m:\u001b[0m\u001b[0;34m\u001b[0m\u001b[0m\n",
      "\u001b[0;32m<ipython-input-41-ef4d399b8cfb>\u001b[0m in \u001b[0;36mgrammar\u001b[0;34m(description, whitespace)\u001b[0m\n\u001b[1;32m     40\u001b[0m     \u001b[0;32mfor\u001b[0m \u001b[0mline\u001b[0m \u001b[0;32min\u001b[0m \u001b[0mdescription\u001b[0m\u001b[0;34m.\u001b[0m\u001b[0msplit\u001b[0m\u001b[0;34m(\u001b[0m\u001b[0;34m'\\n'\u001b[0m\u001b[0;34m)\u001b[0m\u001b[0;34m:\u001b[0m\u001b[0;34m\u001b[0m\u001b[0m\n\u001b[1;32m     41\u001b[0m         \u001b[0;31m#lhs, rhs = split(line, ' => ', 1)\u001b[0m\u001b[0;34m\u001b[0m\u001b[0;34m\u001b[0m\u001b[0m\n\u001b[0;32m---> 42\u001b[0;31m         \u001b[0mlhs\u001b[0m\u001b[0;34m,\u001b[0m \u001b[0mrhs\u001b[0m \u001b[0;34m=\u001b[0m \u001b[0mline\u001b[0m\u001b[0;34m.\u001b[0m\u001b[0msplit\u001b[0m\u001b[0;34m(\u001b[0m\u001b[0;34m' => '\u001b[0m\u001b[0;34m,\u001b[0m \u001b[0mmaxsplit\u001b[0m\u001b[0;34m=\u001b[0m\u001b[0;34m-\u001b[0m\u001b[0;36m1\u001b[0m\u001b[0;34m)\u001b[0m\u001b[0;34m\u001b[0m\u001b[0m\n\u001b[0m\u001b[1;32m     43\u001b[0m         \u001b[0;31m#alternatives = split(rhs, ' | ')\u001b[0m\u001b[0;34m\u001b[0m\u001b[0;34m\u001b[0m\u001b[0m\n\u001b[1;32m     44\u001b[0m         \u001b[0malternatives\u001b[0m \u001b[0;34m=\u001b[0m \u001b[0mrhs\u001b[0m\u001b[0;34m.\u001b[0m\u001b[0msplit\u001b[0m\u001b[0;34m(\u001b[0m\u001b[0;34m' | '\u001b[0m\u001b[0;34m)\u001b[0m\u001b[0;34m\u001b[0m\u001b[0m\n",
      "\u001b[0;31mValueError\u001b[0m: not enough values to unpack (expected 2, got 1)"
     ]
    }
   ],
   "source": [
    "# ---------------\n",
    "# User Instructions\n",
    "#\n",
    "# In this problem, you will be using many of the tools and techniques\n",
    "# that you developed in unit 3 to write a grammar that will allow\n",
    "# us to write a parser for the JSON language. \n",
    "#\n",
    "# You will have to visit json.org to see the JSON grammar. It is not \n",
    "# presented in the correct format for our grammar function, so you \n",
    "# will need to translate it.\n",
    "\n",
    "# ---------------\n",
    "# Provided functions\n",
    "#\n",
    "# These are all functions that were built in unit 3. They will help\n",
    "# you as you write the grammar.  Add your code at line 102.\n",
    "\n",
    "from functools import update_wrapper\n",
    "#from string import split\n",
    "import re\n",
    "\n",
    "def grammar(description, whitespace=r'\\s*'):\n",
    "    \"\"\"Convert a description to a grammar.  Each line is a rule for a\n",
    "    non-terminal symbol; it looks like this:\n",
    "        Symbol =>  A1 A2 ... | B1 B2 ... | C1 C2 ...\n",
    "    where the right-hand side is one or more alternatives, separated by\n",
    "    the '|' sign.  Each alternative is a sequence of atoms, separated by\n",
    "    spaces.  An atom is either a symbol on some left-hand side, or it is\n",
    "    a regular expression that will be passed to re.match to match a token.\n",
    "    \n",
    "    Notation for *, +, or ? not allowed in a rule alternative (but ok\n",
    "    within a token). Use '\\' to continue long lines.  You must include spaces\n",
    "    or tabs around '=>' and '|'. That's within the grammar description itself.\n",
    "    The grammar that gets defined allows whitespace between tokens by default;\n",
    "    specify '' as the second argument to grammar() to disallow this (or supply\n",
    "    any regular expression to describe allowable whitespace between tokens).\"\"\"\n",
    "    G = {' ': whitespace}\n",
    "    description = description.replace('\\t', ' ') # no tabs!\n",
    "    #for line in split(description, '\\n'):\n",
    "    for line in description.split('\\n'):\n",
    "        #lhs, rhs = split(line, ' => ', 1)\n",
    "        lhs, rhs = line.split(' => ', maxsplit=-1)\n",
    "        #alternatives = split(rhs, ' | ')\n",
    "        alternatives = rhs.split(' | ')\n",
    "        G[lhs] = tuple(map(split, alternatives))\n",
    "    return G\n",
    "\n",
    "def decorator(d):\n",
    "    \"Make function d a decorator: d wraps a function fn.\"\n",
    "    def _d(fn):\n",
    "        return update_wrapper(d(fn), fn)\n",
    "    update_wrapper(_d, d)\n",
    "    return _d\n",
    "\n",
    "@decorator\n",
    "def memo(f):\n",
    "    \"\"\"Decorator that caches the return value for each call to f(args).\n",
    "    Then when called again with same args, we can just look it up.\"\"\"\n",
    "    cache = {}\n",
    "    def _f(*args):\n",
    "        try:\n",
    "            return cache[args]\n",
    "        except KeyError:\n",
    "            cache[args] = result = f(*args)\n",
    "            return result\n",
    "        except TypeError:\n",
    "            # some element of args can't be a dict key\n",
    "            return f(args)\n",
    "    return _f\n",
    "\n",
    "def parse(start_symbol, text, grammar):\n",
    "    \"\"\"Example call: parse('Exp', '3*x + b', G).\n",
    "    Returns a (tree, remainder) pair. If remainder is '', it parsed the whole\n",
    "    string. Failure iff remainder is None. This is a deterministic PEG parser,\n",
    "    so rule order (left-to-right) matters. Do 'E => T op E | T', putting the\n",
    "    longest parse first; don't do 'E => T | T op E'\n",
    "    Also, no left recursion allowed: don't do 'E => E op T'\"\"\"\n",
    "\n",
    "    tokenizer = grammar[' '] + '(%s)'\n",
    "\n",
    "    def parse_sequence(sequence, text):\n",
    "        result = []\n",
    "        for atom in sequence:\n",
    "            tree, text = parse_atom(atom, text)\n",
    "            if text is None: return Fail\n",
    "            result.append(tree)\n",
    "        return result, text\n",
    "\n",
    "    @memo\n",
    "    def parse_atom(atom, text):\n",
    "        if atom in grammar:  # Non-Terminal: tuple of alternatives\n",
    "            for alternative in grammar[atom]:\n",
    "                tree, rem = parse_sequence(alternative, text)\n",
    "                if rem is not None: return [atom]+tree, rem  \n",
    "            return Fail\n",
    "        else:  # Terminal: match characters against start of text\n",
    "            m = re.match(tokenizer % atom, text)\n",
    "            return Fail if (not m) else (m.group(1), text[m.end():])\n",
    "    \n",
    "    # Body of parse:\n",
    "    return parse_atom(start_symbol, text)\n",
    "\n",
    "Fail = (None, None)\n",
    "\n",
    "JSON = grammar(\"\"\"\n",
    "object => { } | { members }\n",
    "members => pair , members | pair\n",
    "pair => string : value\n",
    "array => [[] []] | [[] elements []]\n",
    "elements => value, elements | value\n",
    "value => string | number | object | array | true | false | null\n",
    "string => \"[^\"]*\"\n",
    "number => int frac exp | int frac | int exp | int\n",
    "int => -?[1-9][0-9]*\n",
    "frac => [.][0-9]+\n",
    "exp => [eE][-+]?[0-9]+\n",
    "\"\"\", whitespace='\\s*')\n",
    "\n",
    "def json_parse(text):\n",
    "    return parse('value', text, JSON)\n",
    "\n",
    "def test():\n",
    "    assert json_parse('[\"testing\", 1, 2, 3]') == (                      \n",
    "               m        ['value', ['array', '[', ['elements', ['value', \n",
    "                       ['string', '\"testing\"']], ',', ['elements', ['value', ['number', \n",
    "                       ['int', '1']]], ',', ['elements', ['value', ['number', \n",
    "                       ['int', '2']]], ',', ['elements', ['value', ['number', \n",
    "                       ['int', '3']]]]]]], ']']], '')\n",
    "    \n",
    "    assert json_parse('-123.456e+789') == (\n",
    "                       ['value', ['number', ['int', '-123'], ['frac', '.456'], ['exp', 'e+789']]], '')\n",
    "    \n",
    "    assert json_parse('{\"age\": 21, \"state\":\"CO\",\"occupation\":\"rides the rodeo\"}') == (\n",
    "                      ['value', ['object', '{', ['members', ['pair', ['string', '\"age\"'], \n",
    "                       ':', ['value', ['number', ['int', '21']]]], ',', ['members', \n",
    "                      ['pair', ['string', '\"state\"'], ':', ['value', ['string', '\"CO\"']]], \n",
    "                      ',', ['members', ['pair', ['string', '\"occupation\"'], ':', \n",
    "                      ['value', ['string', '\"rides the rodeo\"']]]]]], '}']], '')\n",
    "    return 'tests pass'\n",
    "\n",
    "print(test())"
   ]
  },
  {
   "cell_type": "code",
   "execution_count": 31,
   "metadata": {},
   "outputs": [
    {
     "data": {
      "text/plain": [
       "'object'"
      ]
     },
     "execution_count": 31,
     "metadata": {},
     "output_type": "execute_result"
    }
   ],
   "source": [
    "s = 'object => { } | {members}'\n",
    "r, l = s.split(' => ')\n",
    "r"
   ]
  },
  {
   "cell_type": "code",
   "execution_count": 33,
   "metadata": {
    "collapsed": true
   },
   "outputs": [],
   "source": [
    "s.split?"
   ]
  },
  {
   "cell_type": "markdown",
   "metadata": {},
   "source": [
    "## Homework 2 : Inverse function\n",
    "\n",
    "def square(x): return x**x\n",
    "\n",
    "def sqrt(x): ~\n",
    "\n",
    "sqrt = inverse(square)"
   ]
  },
  {
   "cell_type": "code",
   "execution_count": 43,
   "metadata": {},
   "outputs": [
    {
     "name": "stdout",
     "output_type": "stream",
     "text": [
      "100000.0\n"
     ]
    }
   ],
   "source": [
    "def slow_inverse(f, delta=1/128.):\n",
    "    \"\"\"Given a function y = f(x) that is a monotonically increasing function on\n",
    "    non-negatve numbers, return the function x = f_1(y) that is an approximate\n",
    "    inverse, picking the closest value to the inverse, within delta.\"\"\"\n",
    "    def f_1(y):\n",
    "        x = 0\n",
    "        while f(x) < y:\n",
    "            x += delta\n",
    "        # Now x is too big, x-delta is too small; pick the closest to y\n",
    "        return x if (f(x)-y < y-f(x-delta)) else x-delta\n",
    "    return f_1 \n",
    "\n",
    "    \n",
    "def square(x): return x*x\n",
    "sqrt = slow_inverse(square)\n",
    "\n",
    "print(sqrt(1000000000))"
   ]
  },
  {
   "cell_type": "code",
   "execution_count": 52,
   "metadata": {
    "collapsed": true
   },
   "outputs": [],
   "source": [
    "def inverse(f, delta = 1/128.):\n",
    "    \"\"\"Given a function y = f(x) that is a monotonically increasing function on\n",
    "    non-negatve numbers, return the function x = f_1(y) that is an approximate\n",
    "    inverse, picking the closest value to the inverse, within delta.\"\"\"\n",
    "    def f_1(y):\n",
    "        lo, hi = find_bounds(f, y)\n",
    "        return binary_search(f, y, lo, hi, delta)\n",
    "    return f_1\n",
    "\n",
    "def find_bounds(f, y):\n",
    "    \"Find value lo, hi such that f(lo) <= y <= f(hi)/\"\n",
    "    # keep doubling x until f(x) >= y; that's hi;\n",
    "    # and lo will be either the previous x or 0.\n",
    "    x = 1.\n",
    "    while f(x) < y:\n",
    "        x = x * 2.\n",
    "    lo = 0 if (x == 1) else x/2.\n",
    "    return lo, x\n",
    "\n",
    "def binary_search(f, y, lo, hi, delta):\n",
    "    \"Given f(lo) <= y <= f(hi), return x such that f(x) is within delta of y.\"\n",
    "    # continually split the region in half\n",
    "    while lo <= hi:\n",
    "        x = (lo + hi) / 2.;\n",
    "        if f(x) < y:\n",
    "            lo = x + delta\n",
    "        elif f(x) > y:\n",
    "            hi = x - delta\n",
    "        else:\n",
    "            return x\n",
    "    return hi if (f(hi)-y < y-f(lo)) else lo\n",
    "\n",
    "def square(x): return x*x\n",
    "\n",
    "def power10(x): return 10**x\n",
    "\n",
    "log10 = inverse(power10)\n",
    "\n",
    "sqrt = inverse(square)\n",
    "\n",
    "cuberoot = inverse(lambda x: x**x**x)\n",
    "\n",
    "def test():\n",
    "    import math\n",
    "    nums = [2, 4, 8, 10, 99, 100, 101, 1000, 10000, 20000]\n",
    "    for n in nums:\n",
    "        test1(n, 'sqrt', sqrt(n), math.sqrt(n))\n",
    "        test1(n, 'log', sqrt(n), math.sqrt(n))\n",
    "        test1(n, '3-rt', sqrt(n), math.sqrt(n))\n",
    "\n",
    "def test1(n, name, value, expected):\n",
    "    diff = abs(value-expected)\n",
    "    print('{} : {} = {13.7f} ({} actual) : {.4f} diff: {}'.format(\n",
    "        n, name, value, name, expected, diff, 'OK' if diff < .002 else \"BAD\") )"
   ]
  },
  {
   "cell_type": "code",
   "execution_count": 53,
   "metadata": {},
   "outputs": [
    {
     "ename": "ValueError",
     "evalue": "cannot switch from automatic field numbering to manual field specification",
     "output_type": "error",
     "traceback": [
      "\u001b[0;31m---------------------------------------------------------------------------\u001b[0m",
      "\u001b[0;31mValueError\u001b[0m                                Traceback (most recent call last)",
      "\u001b[0;32m<ipython-input-53-ea594c21b25d>\u001b[0m in \u001b[0;36m<module>\u001b[0;34m()\u001b[0m\n\u001b[0;32m----> 1\u001b[0;31m \u001b[0mtest\u001b[0m\u001b[0;34m(\u001b[0m\u001b[0;34m)\u001b[0m\u001b[0;34m\u001b[0m\u001b[0m\n\u001b[0m",
      "\u001b[0;32m<ipython-input-52-7a9ffec3c1c7>\u001b[0m in \u001b[0;36mtest\u001b[0;34m()\u001b[0m\n\u001b[1;32m     45\u001b[0m     \u001b[0mnums\u001b[0m \u001b[0;34m=\u001b[0m \u001b[0;34m[\u001b[0m\u001b[0;36m2\u001b[0m\u001b[0;34m,\u001b[0m \u001b[0;36m4\u001b[0m\u001b[0;34m,\u001b[0m \u001b[0;36m8\u001b[0m\u001b[0;34m,\u001b[0m \u001b[0;36m10\u001b[0m\u001b[0;34m,\u001b[0m \u001b[0;36m99\u001b[0m\u001b[0;34m,\u001b[0m \u001b[0;36m100\u001b[0m\u001b[0;34m,\u001b[0m \u001b[0;36m101\u001b[0m\u001b[0;34m,\u001b[0m \u001b[0;36m1000\u001b[0m\u001b[0;34m,\u001b[0m \u001b[0;36m10000\u001b[0m\u001b[0;34m,\u001b[0m \u001b[0;36m20000\u001b[0m\u001b[0;34m]\u001b[0m\u001b[0;34m\u001b[0m\u001b[0m\n\u001b[1;32m     46\u001b[0m     \u001b[0;32mfor\u001b[0m \u001b[0mn\u001b[0m \u001b[0;32min\u001b[0m \u001b[0mnums\u001b[0m\u001b[0;34m:\u001b[0m\u001b[0;34m\u001b[0m\u001b[0m\n\u001b[0;32m---> 47\u001b[0;31m         \u001b[0mtest1\u001b[0m\u001b[0;34m(\u001b[0m\u001b[0mn\u001b[0m\u001b[0;34m,\u001b[0m \u001b[0;34m'sqrt'\u001b[0m\u001b[0;34m,\u001b[0m \u001b[0msqrt\u001b[0m\u001b[0;34m(\u001b[0m\u001b[0mn\u001b[0m\u001b[0;34m)\u001b[0m\u001b[0;34m,\u001b[0m \u001b[0mmath\u001b[0m\u001b[0;34m.\u001b[0m\u001b[0msqrt\u001b[0m\u001b[0;34m(\u001b[0m\u001b[0mn\u001b[0m\u001b[0;34m)\u001b[0m\u001b[0;34m)\u001b[0m\u001b[0;34m\u001b[0m\u001b[0m\n\u001b[0m\u001b[1;32m     48\u001b[0m         \u001b[0mtest1\u001b[0m\u001b[0;34m(\u001b[0m\u001b[0mn\u001b[0m\u001b[0;34m,\u001b[0m \u001b[0;34m'log'\u001b[0m\u001b[0;34m,\u001b[0m \u001b[0msqrt\u001b[0m\u001b[0;34m(\u001b[0m\u001b[0mn\u001b[0m\u001b[0;34m)\u001b[0m\u001b[0;34m,\u001b[0m \u001b[0mmath\u001b[0m\u001b[0;34m.\u001b[0m\u001b[0msqrt\u001b[0m\u001b[0;34m(\u001b[0m\u001b[0mn\u001b[0m\u001b[0;34m)\u001b[0m\u001b[0;34m)\u001b[0m\u001b[0;34m\u001b[0m\u001b[0m\n\u001b[1;32m     49\u001b[0m         \u001b[0mtest1\u001b[0m\u001b[0;34m(\u001b[0m\u001b[0mn\u001b[0m\u001b[0;34m,\u001b[0m \u001b[0;34m'3-rt'\u001b[0m\u001b[0;34m,\u001b[0m \u001b[0msqrt\u001b[0m\u001b[0;34m(\u001b[0m\u001b[0mn\u001b[0m\u001b[0;34m)\u001b[0m\u001b[0;34m,\u001b[0m \u001b[0mmath\u001b[0m\u001b[0;34m.\u001b[0m\u001b[0msqrt\u001b[0m\u001b[0;34m(\u001b[0m\u001b[0mn\u001b[0m\u001b[0;34m)\u001b[0m\u001b[0;34m)\u001b[0m\u001b[0;34m\u001b[0m\u001b[0m\n",
      "\u001b[0;32m<ipython-input-52-7a9ffec3c1c7>\u001b[0m in \u001b[0;36mtest1\u001b[0;34m(n, name, value, expected)\u001b[0m\n\u001b[1;32m     52\u001b[0m     \u001b[0mdiff\u001b[0m \u001b[0;34m=\u001b[0m \u001b[0mabs\u001b[0m\u001b[0;34m(\u001b[0m\u001b[0mvalue\u001b[0m\u001b[0;34m-\u001b[0m\u001b[0mexpected\u001b[0m\u001b[0;34m)\u001b[0m\u001b[0;34m\u001b[0m\u001b[0m\n\u001b[1;32m     53\u001b[0m     print('{} : {} = {13.7f} ({} actual) : {.4f} diff: {}'.format(\n\u001b[0;32m---> 54\u001b[0;31m         n, name, value, name, expected, diff, 'OK' if diff < .002 else \"BAD\") )\n\u001b[0m",
      "\u001b[0;31mValueError\u001b[0m: cannot switch from automatic field numbering to manual field specification"
     ]
    }
   ],
   "source": [
    "test()"
   ]
  },
  {
   "cell_type": "markdown",
   "metadata": {
    "collapsed": true
   },
   "source": [
    "## Homework 3"
   ]
  },
  {
   "cell_type": "code",
   "execution_count": 55,
   "metadata": {},
   "outputs": [
    {
     "ename": "AssertionError",
     "evalue": "",
     "output_type": "error",
     "traceback": [
      "\u001b[0;31m---------------------------------------------------------------------------\u001b[0m",
      "\u001b[0;31mAssertionError\u001b[0m                            Traceback (most recent call last)",
      "\u001b[0;32m<ipython-input-55-9fffca7d2dd6>\u001b[0m in \u001b[0;36m<module>\u001b[0;34m()\u001b[0m\n\u001b[1;32m     44\u001b[0m     \u001b[0;32mreturn\u001b[0m \u001b[0;34m'tests pass'\u001b[0m\u001b[0;34m\u001b[0m\u001b[0m\n\u001b[1;32m     45\u001b[0m \u001b[0;34m\u001b[0m\u001b[0m\n\u001b[0;32m---> 46\u001b[0;31m \u001b[0mprint\u001b[0m\u001b[0;34m(\u001b[0m\u001b[0mtest\u001b[0m\u001b[0;34m(\u001b[0m\u001b[0;34m)\u001b[0m\u001b[0;34m)\u001b[0m\u001b[0;34m\u001b[0m\u001b[0m\n\u001b[0m",
      "\u001b[0;32m<ipython-input-55-9fffca7d2dd6>\u001b[0m in \u001b[0;36mtest\u001b[0;34m()\u001b[0m\n\u001b[1;32m     39\u001b[0m     assert findtags(testtext1) == ['<a href=\"www.udacity.com\">', \n\u001b[1;32m     40\u001b[0m                                    \u001b[0;34m'<b>'\u001b[0m\u001b[0;34m,\u001b[0m\u001b[0;34m\u001b[0m\u001b[0m\n\u001b[0;32m---> 41\u001b[0;31m                                    '<a href=\"www.udacity.com\"target=\"_blank\">']\n\u001b[0m\u001b[1;32m     42\u001b[0m     \u001b[0;32massert\u001b[0m \u001b[0mfindtags\u001b[0m\u001b[0;34m(\u001b[0m\u001b[0mtesttext2\u001b[0m\u001b[0;34m)\u001b[0m \u001b[0;34m==\u001b[0m \u001b[0;34m[\u001b[0m\u001b[0;34m]\u001b[0m\u001b[0;34m\u001b[0m\u001b[0m\n\u001b[1;32m     43\u001b[0m     \u001b[0;32massert\u001b[0m \u001b[0mfindtags\u001b[0m\u001b[0;34m(\u001b[0m\u001b[0mtesttext3\u001b[0m\u001b[0;34m)\u001b[0m \u001b[0;34m==\u001b[0m \u001b[0;34m[\u001b[0m\u001b[0;34m'<         b           >'\u001b[0m\u001b[0;34m]\u001b[0m\u001b[0;34m\u001b[0m\u001b[0m\n",
      "\u001b[0;31mAssertionError\u001b[0m: "
     ]
    }
   ],
   "source": [
    "# ---------------\n",
    "# User Instructions\n",
    "#\n",
    "# Write a function, findtags(text), that takes a string of text\n",
    "# as input and returns a list of all the html start tags in the \n",
    "# text. It may be helpful to use regular expressions to solve\n",
    "# this problem.\n",
    "\n",
    "import re\n",
    "\n",
    "def findtags(text):\n",
    "    parms = '(\\w+\\s*=\\s*\"[^\"]*\"\\s*)*'\n",
    "    tags = '(<\\s*\\w+\\s*' + parms + '\\s*/?>)'\n",
    "    return re.findall(tags, text)\n",
    "\n",
    "\n",
    "testtext1 = \"\"\"\n",
    "My favorite website in the world is probably \n",
    "<a href=\"www.udacity.com\">Udacity</a>. If you want \n",
    "that link to open in a <b>new tab</b> by default, you should\n",
    "write <a href=\"www.udacity.com\"target=\"_blank\">Udacity</a>\n",
    "instead!\n",
    "\"\"\"\n",
    "\n",
    "testtext2 = \"\"\"\n",
    "Okay, so you passed the first test case. <let's see> how you \n",
    "handle this one. Did you know that 2 < 3 should return True? \n",
    "So should 3 > 2. But 2 > 3 is always False.\n",
    "\"\"\"\n",
    "\n",
    "testtext3 = \"\"\"\n",
    "It's not common, but we can put a LOT of whitespace into \n",
    "our HTML tags. For example, we can make something bold by\n",
    "doing <         b           > this <   /b    >, Though I \n",
    "don't know why you would ever want to.\n",
    "\"\"\"\n",
    "\n",
    "def test():\n",
    "    assert findtags(testtext1) == ['<a href=\"www.udacity.com\">', \n",
    "                                   '<b>', \n",
    "                                   '<a href=\"www.udacity.com\"target=\"_blank\">']\n",
    "    assert findtags(testtext2) == []\n",
    "    assert findtags(testtext3) == ['<         b           >']\n",
    "    return 'tests pass'\n",
    "\n",
    "print(test())"
   ]
  },
  {
   "cell_type": "code",
   "execution_count": null,
   "metadata": {
    "collapsed": true
   },
   "outputs": [],
   "source": [
    "## challenge problem\n",
    "\n",
    "## parse/convert str re to API\n",
    "\n",
    "REGRAMMAR = grammar(\"\"\"\n",
    "RE =>   ## your description here\n",
    "\"\"\", whitespace='')\n",
    "\n",
    "def parse_re(pattern):\n",
    "    return convert(parse('RE', pattern, REGRAMMAR))\n",
    "\n",
    "def convert(tree):\n",
    "    # code"
   ]
  }
 ],
 "metadata": {
  "kernelspec": {
   "display_name": "Python 3",
   "language": "python",
   "name": "python3"
  },
  "language_info": {
   "codemirror_mode": {
    "name": "ipython",
    "version": 3
   },
   "file_extension": ".py",
   "mimetype": "text/x-python",
   "name": "python",
   "nbconvert_exporter": "python",
   "pygments_lexer": "ipython3",
   "version": "3.6.2"
  }
 },
 "nbformat": 4,
 "nbformat_minor": 2
}
