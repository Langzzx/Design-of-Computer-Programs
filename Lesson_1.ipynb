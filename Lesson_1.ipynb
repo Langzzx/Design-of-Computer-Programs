{
 "cells": [
  {
   "cell_type": "markdown",
   "metadata": {},
   "source": [
    "## Poker excise "
   ]
  },
  {
   "cell_type": "markdown",
   "metadata": {},
   "source": [
    "set(): dosen't keep duplicate copies and is unodered\n",
    "tuple is an ummutable"
   ]
  },
  {
   "cell_type": "code",
   "execution_count": null,
   "metadata": {
    "collapsed": true
   },
   "outputs": [],
   "source": [
    "## Docstrings give you an easy way of associating documentation with a function."
   ]
  },
  {
   "cell_type": "code",
   "execution_count": 51,
   "metadata": {
    "collapsed": true
   },
   "outputs": [],
   "source": [
    "def poker(hands):\n",
    "    \"\"\"Retrun a list of winning hands: poker([hand, ...])->[handd, ...]\"\"\"\n",
    "    return allmax(hands, key=hand_rank)\n",
    "    #return max(handle, key=hand_rank) # resolve tie\n",
    "    # poker([hand, ...]) => hand\n",
    "\n",
    "## Handle the tie, like ranks is same in all hands\n",
    "def allmax(iterable, key=None):\n",
    "    \"\"\"Return a list of all items equal to max of the iterable\"\"\"\n",
    "    result, maxval = [], None\n",
    "    key = key or (lambda x: x)  ## key is optional function, Key is None use lambda\n",
    "    for x in iterable:\n",
    "        xval =  key(x)\n",
    "        if not result or xval > maxval:\n",
    "            result, maxval = [x], xval\n",
    "        elif xval == maxval:\n",
    "            result.append(x)\n",
    "    return result\n",
    "\n",
    "def hand_rank(hand):\n",
    "    \"\"\"Return a value indicating the ranking of a hand\n",
    "       Ref to: https://en.wikipedia.org/wiki/List_of_poker_hands\n",
    "    \"\"\"\n",
    "    ranks = card_ranks(set(hand)) # adding set(hand) to remove duplicate cards when do homework2\n",
    "    if straight(ranks) and flush(hand): # straight flush\n",
    "        return (8, max(ranks))\n",
    "    elif kind(4, ranks):\n",
    "        return (7, kind(4, ranks), kind(1, ranks)) # 4 of kind\n",
    "    elif kind(3, ranks) and kind(2, ranks):  \n",
    "        return (6, kind(3, ranks), kind(2, ranks)) # full house\n",
    "    elif flush(hand):\n",
    "        return (5, ranks)\n",
    "    elif straight(ranks):\n",
    "        return (4, max(ranks))\n",
    "    elif kind(3, ranks):\n",
    "        return (3, kind(3, ranks), ranks)\n",
    "    elif two_pair(ranks):\n",
    "        return (2, two_pair(ranks), ranks)\n",
    "    elif kind(2, ranks):\n",
    "        return (1, kind(2, ranks), ranks)\n",
    "    else:\n",
    "        return (0, ranks)\n",
    "    \n",
    "\n",
    "def card_ranks(hand):\n",
    "    \"\"\"Return a list of the rank, sorted by higher first.\n",
    "    Ace can be rank to 14 or 1\"\"\"\n",
    "    ranks = ['--23456789TJQKA'.index(r) for r, s in hand]\n",
    "    ranks.sort(reverse=True)\n",
    "    #L.sort(key=None, reverse=False)\n",
    "    return [5,4,3,2,1] if (ranks == [14,5,4,3,2]) else ranks\n",
    "    \n",
    "def straight(ranks):\n",
    "    \"\"\"Return True if the ordered ranks from a 5card straigh\"\"\"\n",
    "    return (max(ranks)-min(ranks) == 4) and len(set(ranks)) == 5   \n",
    "\n",
    "def flush(hand):\n",
    "    \"Return True if all the cards have the same suit.\"\n",
    "    suits = [s for r,s in hand]\n",
    "    return len(set(suits)) == 1\n",
    "\n",
    "def kind(n, ranks):\n",
    "    \"\"\"Return the first rank that this hand has exaclty n of\n",
    "    Return None if there is no n of a kind in the hand\"\"\"\n",
    "    for r in ranks:\n",
    "        if ranks.count(r) == n: \n",
    "            return r\n",
    "    return None\n",
    "\n",
    "def two_pair(ranks):\n",
    "    \"\"\"If there are two pair, return tuple:(Highest, lowest).\n",
    "    otherwise return None\"\"\"\n",
    "    pair = kind(2, ranks)\n",
    "    lowpair = kind(2, list(reversed(ranks)))\n",
    "    if pair and lowpair != pair:\n",
    "        return (pair, lowpair)\n",
    "    else:\n",
    "        return None"
   ]
  },
  {
   "cell_type": "code",
   "execution_count": 102,
   "metadata": {
    "collapsed": true
   },
   "outputs": [],
   "source": [
    "import random\n",
    "\n",
    "mydeck = [r+s for r in \"2346789TJQKA\" for s in \"SHDC\"]"
   ]
  },
  {
   "cell_type": "code",
   "execution_count": 103,
   "metadata": {
    "collapsed": true
   },
   "outputs": [],
   "source": [
    "def deal(numhands, n=5, deck=mydeck):\n",
    "    \"based on deal return deck\"\n",
    "    random.shuffle(deck)\n",
    "    return [deck[n*i:n*(i+1)] for i in range(numhands)]"
   ]
  },
  {
   "cell_type": "code",
   "execution_count": 138,
   "metadata": {
    "collapsed": true
   },
   "outputs": [],
   "source": [
    "hand_names = ['Stright Flush:  0.001', \n",
    "             '4 kind:  0.019',\n",
    "             'Full house:  0.146',\n",
    "             'Flush:  0.198',\n",
    "             'Strighat:  0.401',\n",
    "             '3 kind:  2.228',\n",
    "             '2 pair:  4.752',\n",
    "             'Pair: 42.329',\n",
    "             'High Card: 50.036']\n",
    "\n",
    "def hand_percentages(n=700*1000):\n",
    "    \"Sample n random hands and print a table of percentages for each type of hand.\"\n",
    "    counts = [0] * 9\n",
    "    for i in range(n // 10):\n",
    "        for hand in deal(10):\n",
    "            ranking = hand_rank(hand)[0]\n",
    "            counts[ranking] += 1\n",
    "    for i in range(9):\n",
    "        #print(\"%20s: %% %6.3f %%\" % (hand_names[i], 100.*counts[i]/n))\n",
    "        # {} and with : used instead of %\n",
    "        print(\"{:>21}%, {:6.3f}%\".format(hand_names[i], 100.*counts[i]/n))"
   ]
  },
  {
   "cell_type": "code",
   "execution_count": 139,
   "metadata": {
    "scrolled": true
   },
   "outputs": [
    {
     "name": "stdout",
     "output_type": "stream",
     "text": [
      "Stright Flush:  0.001%, 49.771%\n",
      "       4 kind:  0.019%, 41.857%\n",
      "   Full house:  0.146%,  4.958%\n",
      "        Flush:  0.198%,  2.256%\n",
      "     Strighat:  0.401%,  0.266%\n",
      "       3 kind:  2.228%,  0.684%\n",
      "       2 pair:  4.752%,  0.177%\n",
      "         Pair: 42.329%,  0.028%\n",
      "    High Card: 50.036%,  0.002%\n"
     ]
    }
   ],
   "source": [
    "hand_percentages()"
   ]
  },
  {
   "cell_type": "code",
   "execution_count": 12,
   "metadata": {
    "scrolled": true
   },
   "outputs": [
    {
     "data": {
      "text/plain": [
       "[['AH', 'KC', 'TD', '6D', 'KH'],\n",
       " ['4H', '9D', '6S', 'JC', '6H'],\n",
       " ['8H', '7H', '4C', '3C', '8S'],\n",
       " ['JH', '2C', '4S', '2S', '8D'],\n",
       " ['9S', '7C', '3S', '2D', '6C'],\n",
       " ['JS', 'TH', '8C', 'KS', '3H'],\n",
       " ['9H', 'AS', 'TC', 'QH', 'AD'],\n",
       " ['7D', 'TS', 'JD', '2H', '9C'],\n",
       " ['QS', '4D', '3D', 'KD', 'QD'],\n",
       " ['AC', '7S', 'QC']]"
      ]
     },
     "execution_count": 12,
     "metadata": {},
     "output_type": "execute_result"
    }
   ],
   "source": [
    "deal(10)"
   ]
  },
  {
   "cell_type": "markdown",
   "metadata": {
    "collapsed": true
   },
   "source": [
    "## Four dimensions of program:\n",
    ">1. correctness\n",
    ">2. efficiency\n",
    ">3. features\n",
    ">4. elegante\n",
    "\n",
    "trader off uppper dimension by refactoring\n",
    "\n",
    "*-Dry: Don't repeat myself-*"
   ]
  },
  {
   "cell_type": "code",
   "execution_count": 13,
   "metadata": {
    "collapsed": true
   },
   "outputs": [],
   "source": [
    "# Refactoring code: remove repeat code\n",
    "def hand_rank(hand):\n",
    "    \"\"\"Return a value indicating how high the hand ranks.\"\"\"\n",
    "    # counts is the count of each work ranks list corresponding ranks\n",
    "    # E.g. '7 T 7 9 7' => counts = (3, 1, 1), ranks = (7, 9, 10)\n",
    "    groups = group(['--23456789TJQKA'.index(r) for r,s in hand])\n",
    "    counts, ranks = unzip(groups)\n",
    "    if ranks == (14, 5, 4, 3, 2):\n",
    "        ranks =  (5, 4, 3, 2, 1)\n",
    "    straight = len(ranks) ==  5 and max(ranks)-min(ranks) == 4\n",
    "    flush =  len(set([s for r,s in hand])) == 1\n",
    "    return (9 if (5,) == counts else\n",
    "            8 if straight and flush else\n",
    "            7 if (4, 1) == counts else\n",
    "            6 if (3, 2) == counts else\n",
    "            5 if flush else\n",
    "            4 if straight else\n",
    "            3 if (3, 1, 1) == counts else\n",
    "            2 if (2, 2, 1) == counts else\n",
    "            1 if (2, 1, 1, 1) ==  counts else\n",
    "            0), ranks\n",
    "\n",
    "def group(items):\n",
    "    \"\"\"Return a list of [(count, x)...], highest count first, then highest x first\"\"\"\n",
    "    groups = [(items.counts(x), x) for x in set(items)]\n",
    "    return sorted(groups, reverse=True)\n",
    "\n",
    "def unzip(pairs): return zip(*pairs) ## *paris??"
   ]
  },
  {
   "cell_type": "code",
   "execution_count": 141,
   "metadata": {
    "collapsed": true
   },
   "outputs": [],
   "source": [
    "## solution 2\n",
    "\n",
    "def hand_rank(hand):\n",
    "    \"\"\"Return a value indicating how high the hand ranks.\"\"\"\n",
    "    # counts is the count of each work ranks list corresponding ranks\n",
    "    # E.g. '7 T 7 9 7' => counts = (3, 1, 1), ranks = (7, 9, 10)\n",
    "    groups = group(['--23456789TJQKA'.index(r) for r,s in hand])\n",
    "    counts, ranks = unzip(groups)\n",
    "    if ranks == (14, 5, 4, 3, 2):\n",
    "        ranks =  (5, 4, 3, 2, 1)\n",
    "    straight = len(ranks) ==  5 and max(ranks)-min(ranks) == 4\n",
    "    flush =  len(set([s for r,s in hand])) == 1\n",
    "                 \n",
    "    return max(counts_rankings[counts], 4*straight + 5*flush), ranks\n",
    "                 \n",
    "counts_rankings = {(5,):10, (4,1):7, (3,2):6, (3,1,1):3, (2,2,1):2, (2,1,1,1):1, (1,1,1,1,1):0}"
   ]
  },
  {
   "cell_type": "code",
   "execution_count": 151,
   "metadata": {},
   "outputs": [
    {
     "data": {
      "text/plain": [
       "<zip at 0x10e799a48>"
      ]
     },
     "execution_count": 151,
     "metadata": {},
     "output_type": "execute_result"
    }
   ],
   "source": [
    "# zip?\n",
    "\n",
    "x = [1, 2, 3]\n",
    "y = [4, 5, 6]\n",
    "z = [7, 8, 9]\n",
    "zip(x, y, z)"
   ]
  },
  {
   "cell_type": "markdown",
   "metadata": {},
   "source": [
    "Lesson Learn:\n",
    "- Understand the question\n",
    "- Define pieces of problem\n",
    "- Reuse : remove repeated parts\n",
    "- Test: Specify it"
   ]
  },
  {
   "cell_type": "markdown",
   "metadata": {},
   "source": [
    "## Shuffle alorithm\n",
    "\n"
   ]
  },
  {
   "cell_type": "code",
   "execution_count": 159,
   "metadata": {
    "collapsed": true
   },
   "outputs": [],
   "source": [
    "def shuffe1(deck):\n",
    "    N = len(deck)\n",
    "    swapped = [False] * N\n",
    "    while not all(swapped):\n",
    "        i, j = random.randrange(N), random.randrange(N)\n",
    "        swapped[i] = swapped[j] = True\n",
    "        swap(deck, i, j)\n",
    "        \n",
    "        \n",
    "def swap(deck, i, j):\n",
    "    \"Swap elements i and j of collection.\"\n",
    "    print(\"swap\", i, j)\n",
    "    deck[i], deck[j] = deck[j], deck[i]"
   ]
  },
  {
   "cell_type": "code",
   "execution_count": 160,
   "metadata": {
    "collapsed": true
   },
   "outputs": [],
   "source": [
    "def shuffle(deck):\n",
    "    \"Knuth's Algorithm P.\"\n",
    "    N = len(deck)\n",
    "    for i in range(N-1): # not N as last one in swap itself\n",
    "        swap(deck, i, random.randrange(i, N))"
   ]
  },
  {
   "cell_type": "code",
   "execution_count": 167,
   "metadata": {},
   "outputs": [
    {
     "name": "stdout",
     "output_type": "stream",
     "text": [
      "Object `str.joint` not found.\n"
     ]
    }
   ],
   "source": [
    "str.joint?"
   ]
  },
  {
   "cell_type": "code",
   "execution_count": 168,
   "metadata": {
    "collapsed": true
   },
   "outputs": [],
   "source": [
    "from collections import defaultdict\n",
    "\n",
    "def test_shuffer(shuffler, deck='abcd', n=10000):\n",
    "    counts =  defaultdict(int) # counts start from 0\n",
    "    for _ in range(n):\n",
    "        input = list(deck)\n",
    "        shuffler(input)\n",
    "        counts[''.join(input)] += 1\n",
    "    e = n*1./factorial(len(deck)) ## expected count\n",
    "    ok = all((0.9 <= counts[item]/e <= 1.1)\n",
    "            for item in counts)\n",
    "    name = shuffler.__name__\n",
    "    print('{},{},{}'.format(name, deck, ('ok' if ok else '***BDA***')))\n",
    "    print('    ')\n",
    "    for item, count in sorted(counts.items()):\n",
    "        print(\"%s:%4.1f\" % (item, count*100./n))\n",
    "    print()\n",
    "    \n",
    "def test_shufflers(shufflers=[shuffle, shuffle1], decks=['abc', 'ab']):\n",
    "    for deck in decks:\n",
    "        print()\n",
    "        for f in shufflers:\n",
    "            test_shuffer(f, deck)\n",
    "            \n",
    "def factorial(n): return 1 if (n <= 1) else n*factorial(n-1)"
   ]
  },
  {
   "cell_type": "code",
   "execution_count": 171,
   "metadata": {
    "scrolled": false
   },
   "outputs": [
    {
     "ename": "TypeError",
     "evalue": "test_shuffer() missing 1 required positional argument: 'shuffler'",
     "output_type": "error",
     "traceback": [
      "\u001b[0;31m---------------------------------------------------------------------------\u001b[0m",
      "\u001b[0;31mTypeError\u001b[0m                                 Traceback (most recent call last)",
      "\u001b[0;32m<ipython-input-171-0b8ef882b9dd>\u001b[0m in \u001b[0;36m<module>\u001b[0;34m()\u001b[0m\n\u001b[0;32m----> 1\u001b[0;31m \u001b[0mtest_shuffer\u001b[0m\u001b[0;34m(\u001b[0m\u001b[0;34m)\u001b[0m\u001b[0;34m\u001b[0m\u001b[0m\n\u001b[0m",
      "\u001b[0;31mTypeError\u001b[0m: test_shuffer() missing 1 required positional argument: 'shuffler'"
     ]
    }
   ],
   "source": [
    "test_shuffer()"
   ]
  },
  {
   "cell_type": "code",
   "execution_count": null,
   "metadata": {
    "collapsed": true
   },
   "outputs": [],
   "source": [
    "def shuffle2(deck):\n",
    "    \"A modification of my teacher's algorithm\"\n",
    "    N = len(deck)\n",
    "    swapped = [False] * N\n",
    "    while not all(swapped):\n",
    "        i, j = randrange(N), randrange(N)\n",
    "        swapped[i] = True\n",
    "        swap(deck, i, j)\n",
    "        \n",
    "def shuffle3(deck):\n",
    "    \"An easier modification of my teacher's algorithm\"\n",
    "    N = len(deck)\n",
    "    for i in range(N):\n",
    "        swap(deck, i, randrange(N))"
   ]
  },
  {
   "cell_type": "markdown",
   "metadata": {},
   "source": [
    "## List comprehensions:\n",
    "\n",
    "[ref to](https://docs.python.org/3/tutorial/datastructures.html#list-comprehensions)"
   ]
  },
  {
   "cell_type": "code",
   "execution_count": 1,
   "metadata": {},
   "outputs": [
    {
     "name": "stdout",
     "output_type": "stream",
     "text": [
      "['PETER', 'ANDY', 'GUNDEGA', 'JOB', 'SEAN']\n"
     ]
    }
   ],
   "source": [
    "## andy list comprehension\n",
    "\n",
    "udacity_tas = ['Peter', 'Andy', 'Gundega', 'Job', 'Sean']\n",
    "\n",
    "uppercase_tas = [name.upper() for name in udacity_tas]\n",
    "\n",
    "print(uppercase_tas)"
   ]
  },
  {
   "cell_type": "code",
   "execution_count": 2,
   "metadata": {},
   "outputs": [
    {
     "name": "stdout",
     "output_type": "stream",
     "text": [
      "PETER\n",
      "ANDY\n",
      "GUNDEGA\n",
      "JOB\n",
      "SEAN\n"
     ]
    }
   ],
   "source": [
    "for name in uppercase_tas:\n",
    "    print(name)"
   ]
  },
  {
   "cell_type": "code",
   "execution_count": 6,
   "metadata": {},
   "outputs": [
    {
     "name": "stdout",
     "output_type": "stream",
     "text": [
      "Peter lives in USA and is the TA for cs262\n",
      "Andy lives in USA and is the TA for cs212\n",
      "Gundega lives in Lativa and is the TA for cs232\n",
      "Sarah lives in England and is the TA for cs373\n",
      "Job lives in USA and is the TA for cs387\n",
      "Sean lives in USA and is the TA for cs253\n"
     ]
    }
   ],
   "source": [
    "## use string.find()\n",
    "\n",
    "#ta_300 = ['Gundega is the TA for cs373',\n",
    "#         'Job is the TA for cs387'']\n",
    "\n",
    "ta_data = [['Peter', 'USA', 'cs262'],\n",
    "           ['Andy', 'USA', 'cs212'],\n",
    "           ['Gundega', 'Lativa', 'cs232'],\n",
    "           ['Sarah', 'England', 'cs373'],\n",
    "           ['Job', 'USA', 'cs387'],\n",
    "           ['Sean', 'USA', 'cs253']]\n",
    "\n",
    "ta_facts = [name + ' lives in ' + country + ' and is the TA for ' + course for name, country, course in ta_data]\n",
    "\n",
    "for row in ta_facts:\n",
    "    print(row)"
   ]
  },
  {
   "cell_type": "code",
   "execution_count": 7,
   "metadata": {},
   "outputs": [
    {
     "name": "stdout",
     "output_type": "stream",
     "text": [
      "Sarah is the TA for cs373\n",
      "Job is the TA for cs387\n"
     ]
    }
   ],
   "source": [
    "ta_300 = [name + ' is the TA for ' + course for name, country, course in ta_data if course.find('cs3') != -1]\n",
    "\n",
    "for row in ta_300:\n",
    "    print(row)"
   ]
  },
  {
   "cell_type": "markdown",
   "metadata": {},
   "source": [
    "## Homework"
   ]
  },
  {
   "cell_type": "code",
   "execution_count": 10,
   "metadata": {},
   "outputs": [
    {
     "name": "stdout",
     "output_type": "stream",
     "text": [
      "test_best_hand passes\n"
     ]
    }
   ],
   "source": [
    "## problem 1: 7-card stud\n",
    "\n",
    "import itertools\n",
    "\n",
    "def best_hand(hand):\n",
    "    return max(itertools.combinations(hand, 5), key=hand_rank)\n",
    "\n",
    "def test_best_hand():\n",
    "    assert (sorted(best_hand(\"6C 7C 8C 9C TC 5C JS\".split()))\n",
    "            == ['6C', '7C', '8C', '9C', 'TC'])\n",
    "    assert (sorted(best_hand(\"TD TC TH 7C 7D 8C 8S\".split()))\n",
    "            == ['8C', '8S', 'TC', 'TD', 'TH'])\n",
    "    assert (sorted(best_hand(\"JD TC TH 7C 7D 7S 7H\".split()))\n",
    "            == ['7C', '7D', '7H', '7S', 'JD'])\n",
    "    return 'test_best_hand passes'\n",
    "\n",
    "print(test_best_hand())"
   ]
  },
  {
   "cell_type": "code",
   "execution_count": 50,
   "metadata": {
    "scrolled": true
   },
   "outputs": [
    {
     "name": "stdout",
     "output_type": "stream",
     "text": [
      "test_best_wild_hand passes\n"
     ]
    }
   ],
   "source": [
    "## problem 2: Jokers\n",
    "## Deck adds two cards:\n",
    "## '?B': black joker; can be used as any black card (S or C)\n",
    "## '?R': red joker; can be used as any red card (H or D)\n",
    "\n",
    "allranks = '23456789TJQKA'\n",
    "redcards = [r+s for r in allranks for s in 'DH']\n",
    "blackcards = [r+s for r in allranks for s in 'SC']\n",
    "\n",
    "def best_wild_hand(hand):\n",
    "    \"Try all values for jokers in all 5-card selections.\"\n",
    "    hands = set(best_hand(h)\n",
    "               for h in itertools.product(*map(replacements, hand)))\n",
    "    return max(hands, key = hand_rank)\n",
    "\n",
    "def replacements(card):\n",
    "    \"\"\"Return a list of possible replacements for card.\n",
    "    there will be more than one only for wild cards.\"\"\"\n",
    "    if card == '?B': return blackcards  ## return blackcards means return possible black card, like S/C\n",
    "    elif card == '?R': return redcards\n",
    "    else: return [card]\n",
    "\n",
    "def test_best_wild_hand():\n",
    "    assert (sorted(best_wild_hand(\"6C 7C 8C 9C TC 5C ?B\".split()))\n",
    "            == ['7C', '8C', '9C', 'JC', 'TC'])\n",
    "    assert (sorted(best_wild_hand(\"TD TC 5H 5C 7C ?R ?B\".split()))\n",
    "            == ['7C', 'TC', 'TD', 'TH', 'TS'])\n",
    "    ## upper assert need make sure no duplicate cards exist, so\n",
    "    ## use adding set in hand_rank(modify previous code)\n",
    "    assert (sorted(best_wild_hand(\"JD TC TH 7C 7D 7S 7H\".split()))\n",
    "            == ['7C', '7D', '7H', '7S', 'JD'])\n",
    "    return 'test_best_wild_hand passes'\n",
    "\n",
    "print(test_best_wild_hand())"
   ]
  },
  {
   "cell_type": "code",
   "execution_count": 40,
   "metadata": {},
   "outputs": [
    {
     "data": {
      "text/plain": [
       "['7C', 'TC', 'TC', 'TD', 'TD']"
      ]
     },
     "execution_count": 40,
     "metadata": {},
     "output_type": "execute_result"
    }
   ],
   "source": [
    "sorted(best_wild_hand(\"TD TC 5H 5C 7C ?R ?B\".split()))"
   ]
  },
  {
   "cell_type": "markdown",
   "metadata": {},
   "source": [
    "List comprehensions provide a concise way to create list. "
   ]
  },
  {
   "cell_type": "code",
   "execution_count": 15,
   "metadata": {},
   "outputs": [
    {
     "name": "stdout",
     "output_type": "stream",
     "text": [
      "[0, 1, 4, 9, 16, 25, 36, 49, 64, 81]\n"
     ]
    }
   ],
   "source": [
    "squares = []\n",
    "for x in range(10):\n",
    "    squares.append(x**2)\n",
    "    \n",
    "print(squares)"
   ]
  },
  {
   "cell_type": "code",
   "execution_count": 16,
   "metadata": {},
   "outputs": [
    {
     "name": "stdout",
     "output_type": "stream",
     "text": [
      "[0, 1, 4, 9, 16, 25, 36, 49, 64, 81]\n"
     ]
    }
   ],
   "source": [
    "squares2 = list(map(lambda x: x**2, range(10)))\n",
    "print(squares)"
   ]
  },
  {
   "cell_type": "code",
   "execution_count": 17,
   "metadata": {},
   "outputs": [
    {
     "data": {
      "text/plain": [
       "[0, 1, 4, 9, 16, 25, 36, 49, 64, 81]"
      ]
     },
     "execution_count": 17,
     "metadata": {},
     "output_type": "execute_result"
    }
   ],
   "source": [
    "[x ** 2 for x in range(10)]"
   ]
  },
  {
   "cell_type": "code",
   "execution_count": 26,
   "metadata": {},
   "outputs": [],
   "source": [
    "matrix = [[1, 2, 3, 4], \n",
    "          [5, 6, 7, 8], \n",
    "          [9, 10, 11, 12]]"
   ]
  },
  {
   "cell_type": "code",
   "execution_count": 27,
   "metadata": {},
   "outputs": [
    {
     "data": {
      "text/plain": [
       "[[1, 5, 9], [2, 6, 10], [3, 7, 11], [4, 8, 12]]"
      ]
     },
     "execution_count": 27,
     "metadata": {},
     "output_type": "execute_result"
    }
   ],
   "source": [
    "# tranpose rows and columns\n",
    "[[row[i] for row in matrix] for i in range(4)]"
   ]
  },
  {
   "cell_type": "code",
   "execution_count": 28,
   "metadata": {},
   "outputs": [
    {
     "data": {
      "text/plain": [
       "[(1, 5, 9), (2, 6, 10), (3, 7, 11), (4, 8, 12)]"
      ]
     },
     "execution_count": 28,
     "metadata": {},
     "output_type": "execute_result"
    }
   ],
   "source": [
    "list(zip(*matrix))"
   ]
  },
  {
   "cell_type": "code",
   "execution_count": null,
   "metadata": {
    "collapsed": true
   },
   "outputs": [],
   "source": [
    "## unpacking Argument list"
   ]
  },
  {
   "cell_type": "code",
   "execution_count": 29,
   "metadata": {},
   "outputs": [
    {
     "data": {
      "text/plain": [
       "[3, 4, 5]"
      ]
     },
     "execution_count": 29,
     "metadata": {},
     "output_type": "execute_result"
    }
   ],
   "source": [
    "list(range(3, 6))"
   ]
  },
  {
   "cell_type": "code",
   "execution_count": 33,
   "metadata": {},
   "outputs": [
    {
     "data": {
      "text/plain": [
       "[3, 4, 5]"
      ]
     },
     "execution_count": 33,
     "metadata": {},
     "output_type": "execute_result"
    }
   ],
   "source": [
    "args = [3, 6]\n",
    "list(range(*args))"
   ]
  },
  {
   "cell_type": "code",
   "execution_count": 35,
   "metadata": {},
   "outputs": [],
   "source": [
    "## *-operator to unpack the arguments out of a list or tuple\n",
    "## dictionaries can deliver keyword arguments with the **-operator:"
   ]
  },
  {
   "cell_type": "code",
   "execution_count": null,
   "metadata": {
    "collapsed": true
   },
   "outputs": [],
   "source": []
  }
 ],
 "metadata": {
  "kernelspec": {
   "display_name": "Python 3",
   "language": "python",
   "name": "python3"
  },
  "language_info": {
   "codemirror_mode": {
    "name": "ipython",
    "version": 3
   },
   "file_extension": ".py",
   "mimetype": "text/x-python",
   "name": "python",
   "nbconvert_exporter": "python",
   "pygments_lexer": "ipython3",
   "version": "3.6.2"
  }
 },
 "nbformat": 4,
 "nbformat_minor": 1
}
